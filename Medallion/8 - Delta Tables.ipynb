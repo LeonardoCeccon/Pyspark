{
 "cells": [
  {
   "cell_type": "markdown",
   "metadata": {
    "application/vnd.databricks.v1+cell": {
     "cellMetadata": {},
     "inputWidgets": {},
     "nuid": "2ec41ed8-e166-405e-b5ae-0484c586c8c2",
     "showTitle": false,
     "tableResultSettingsMap": {},
     "title": ""
    }
   },
   "source": [
    "####Criando tabelas Delta"
   ]
  },
  {
   "cell_type": "code",
   "execution_count": 0,
   "metadata": {
    "application/vnd.databricks.v1+cell": {
     "cellMetadata": {
      "byteLimit": 2048000,
      "implicitDf": true,
      "rowLimit": 10000
     },
     "inputWidgets": {},
     "nuid": "6a3f3139-4209-4ea9-9845-567ab28baa95",
     "showTitle": false,
     "tableResultSettingsMap": {},
     "title": ""
    }
   },
   "outputs": [
    {
     "output_type": "stream",
     "name": "stdout",
     "output_type": "stream",
     "text": [
      "+--------+------------+-----------+\n|database|   tableName|isTemporary|\n+--------+------------+-----------+\n|    lhdw|dim_segmento|      false|\n+--------+------------+-----------+\n\n"
     ]
    }
   ],
   "source": [
    "# Caminho da tabela no Volume\n",
    "nome_tabela = \"dim_segmento\"\n",
    "delta_path = f\"/Volumes/workspace/lhdw/gold/vendas_delta/{nome_tabela}\"\n",
    "\n",
    "# Ler os dados do Delta\n",
    "df = spark.read.format(\"delta\").load(delta_path)\n",
    "\n",
    "# Registrar no catálogo (sem option(\"path\"))\n",
    "df.write.format(\"delta\") \\\n",
    "    .mode(\"overwrite\") \\\n",
    "    .saveAsTable(f\"workspace.lhdw.{nome_tabela}\")\n",
    "# Verifique se a tabela foi criada\n",
    "spark.sql(\"SHOW TABLES IN workspace.lhdw\").show();"
   ]
  },
  {
   "cell_type": "code",
   "execution_count": 0,
   "metadata": {
    "application/vnd.databricks.v1+cell": {
     "cellMetadata": {
      "byteLimit": 2048000,
      "rowLimit": 10000
     },
     "inputWidgets": {},
     "nuid": "509787ca-a43e-4728-9f94-7653848f5c1f",
     "showTitle": false,
     "tableResultSettingsMap": {},
     "title": ""
    }
   },
   "outputs": [
    {
     "output_type": "stream",
     "name": "stdout",
     "output_type": "stream",
     "text": [
      "+--------+-------------+-----------+\n|database|    tableName|isTemporary|\n+--------+-------------+-----------+\n|    lhdw|dim_categoria|      false|\n|    lhdw| dim_segmento|      false|\n+--------+-------------+-----------+\n\n"
     ]
    }
   ],
   "source": [
    "# Caminho da tabela no Volume\n",
    "nome_tabela = \"dim_categoria\"\n",
    "delta_path = f\"/Volumes/workspace/lhdw/gold/vendas_delta/{nome_tabela}\"\n",
    "\n",
    "# Ler os dados do Delta\n",
    "df = spark.read.format(\"delta\").load(delta_path)\n",
    "\n",
    "# Registrar no catálogo (sem option(\"path\"))\n",
    "df.write.format(\"delta\") \\\n",
    "    .mode(\"overwrite\") \\\n",
    "    .saveAsTable(f\"workspace.lhdw.{nome_tabela}\")\n",
    "# Verifique se a tabela foi criada\n",
    "spark.sql(\"SHOW TABLES IN workspace.lhdw\").show();"
   ]
  },
  {
   "cell_type": "code",
   "execution_count": 0,
   "metadata": {
    "application/vnd.databricks.v1+cell": {
     "cellMetadata": {
      "byteLimit": 2048000,
      "rowLimit": 10000
     },
     "inputWidgets": {},
     "nuid": "ee1c363c-2569-4475-ba3d-03b08f0a07e5",
     "showTitle": false,
     "tableResultSettingsMap": {},
     "title": ""
    }
   },
   "outputs": [
    {
     "output_type": "stream",
     "name": "stdout",
     "output_type": "stream",
     "text": [
      "+--------+-------------+-----------+\n|database|    tableName|isTemporary|\n+--------+-------------+-----------+\n|    lhdw|dim_categoria|      false|\n|    lhdw|  dim_produto|      false|\n|    lhdw| dim_segmento|      false|\n+--------+-------------+-----------+\n\n"
     ]
    }
   ],
   "source": [
    "# Caminho da tabela no Volume\n",
    "nome_tabela = \"dim_produto\"\n",
    "delta_path = f\"/Volumes/workspace/lhdw/gold/vendas_delta/{nome_tabela}\"\n",
    "\n",
    "# Ler os dados do Delta\n",
    "df = spark.read.format(\"delta\").load(delta_path)\n",
    "\n",
    "# Registrar no catálogo (sem option(\"path\"))\n",
    "df.write.format(\"delta\") \\\n",
    "    .mode(\"overwrite\") \\\n",
    "    .saveAsTable(f\"workspace.lhdw.{nome_tabela}\")\n",
    "# Verifique se a tabela foi criada\n",
    "spark.sql(\"SHOW TABLES IN workspace.lhdw\").show();"
   ]
  },
  {
   "cell_type": "code",
   "execution_count": 0,
   "metadata": {
    "application/vnd.databricks.v1+cell": {
     "cellMetadata": {
      "byteLimit": 2048000,
      "rowLimit": 10000
     },
     "inputWidgets": {},
     "nuid": "25b501f1-09f9-4780-9363-6ecea4e4464c",
     "showTitle": false,
     "tableResultSettingsMap": {},
     "title": ""
    }
   },
   "outputs": [
    {
     "output_type": "stream",
     "name": "stdout",
     "output_type": "stream",
     "text": [
      "+--------+--------------+-----------+\n|database|     tableName|isTemporary|\n+--------+--------------+-----------+\n|    lhdw| dim_categoria|      false|\n|    lhdw|dim_fabricante|      false|\n|    lhdw|   dim_produto|      false|\n|    lhdw|  dim_segmento|      false|\n+--------+--------------+-----------+\n\n"
     ]
    }
   ],
   "source": [
    "# Caminho da tabela no Volume\n",
    "nome_tabela = \"dim_fabricante\"\n",
    "delta_path = f\"/Volumes/workspace/lhdw/gold/vendas_delta/{nome_tabela}\"\n",
    "\n",
    "# Ler os dados do Delta\n",
    "df = spark.read.format(\"delta\").load(delta_path)\n",
    "\n",
    "# Registrar no catálogo (sem option(\"path\"))\n",
    "df.write.format(\"delta\") \\\n",
    "    .mode(\"overwrite\") \\\n",
    "    .saveAsTable(f\"workspace.lhdw.{nome_tabela}\")\n",
    "# Verifique se a tabela foi criada\n",
    "spark.sql(\"SHOW TABLES IN workspace.lhdw\").show();"
   ]
  },
  {
   "cell_type": "code",
   "execution_count": 0,
   "metadata": {
    "application/vnd.databricks.v1+cell": {
     "cellMetadata": {
      "byteLimit": 2048000,
      "rowLimit": 10000
     },
     "inputWidgets": {},
     "nuid": "6a5ed532-8fc6-47ee-8042-b7f951b11a62",
     "showTitle": false,
     "tableResultSettingsMap": {},
     "title": ""
    }
   },
   "outputs": [
    {
     "output_type": "stream",
     "name": "stdout",
     "output_type": "stream",
     "text": [
      "+--------+--------------+-----------+\n|database|     tableName|isTemporary|\n+--------+--------------+-----------+\n|    lhdw| dim_categoria|      false|\n|    lhdw|dim_fabricante|      false|\n|    lhdw| dim_geografia|      false|\n|    lhdw|   dim_produto|      false|\n|    lhdw|  dim_segmento|      false|\n+--------+--------------+-----------+\n\n"
     ]
    }
   ],
   "source": [
    "# Caminho da tabela no Volume\n",
    "nome_tabela = \"dim_geografia\"\n",
    "delta_path = f\"/Volumes/workspace/lhdw/gold/vendas_delta/{nome_tabela}\"\n",
    "\n",
    "# Ler os dados do Delta\n",
    "df = spark.read.format(\"delta\").load(delta_path)\n",
    "\n",
    "# Registrar no catálogo (sem option(\"path\"))\n",
    "df.write.format(\"delta\") \\\n",
    "    .mode(\"overwrite\") \\\n",
    "    .saveAsTable(f\"workspace.lhdw.{nome_tabela}\")\n",
    "# Verifique se a tabela foi criada\n",
    "spark.sql(\"SHOW TABLES IN workspace.lhdw\").show();"
   ]
  },
  {
   "cell_type": "code",
   "execution_count": 0,
   "metadata": {
    "application/vnd.databricks.v1+cell": {
     "cellMetadata": {
      "byteLimit": 2048000,
      "rowLimit": 10000
     },
     "inputWidgets": {},
     "nuid": "c576c445-a7b6-433a-ae4c-2f73baa01803",
     "showTitle": false,
     "tableResultSettingsMap": {},
     "title": ""
    }
   },
   "outputs": [
    {
     "output_type": "stream",
     "name": "stdout",
     "output_type": "stream",
     "text": [
      "+--------+--------------+-----------+\n|database|     tableName|isTemporary|\n+--------+--------------+-----------+\n|    lhdw| dim_categoria|      false|\n|    lhdw|   dim_cliente|      false|\n|    lhdw|dim_fabricante|      false|\n|    lhdw| dim_geografia|      false|\n|    lhdw|   dim_produto|      false|\n|    lhdw|  dim_segmento|      false|\n+--------+--------------+-----------+\n\n"
     ]
    }
   ],
   "source": [
    "# Caminho da tabela no Volume\n",
    "nome_tabela = \"dim_cliente\"\n",
    "delta_path = f\"/Volumes/workspace/lhdw/gold/vendas_delta/{nome_tabela}\"\n",
    "\n",
    "# Ler os dados do Delta\n",
    "df = spark.read.format(\"delta\").load(delta_path)\n",
    "\n",
    "# Registrar no catálogo (sem option(\"path\"))\n",
    "df.write.format(\"delta\") \\\n",
    "    .mode(\"overwrite\") \\\n",
    "    .saveAsTable(f\"workspace.lhdw.{nome_tabela}\")\n",
    "# Verifique se a tabela foi criada\n",
    "spark.sql(\"SHOW TABLES IN workspace.lhdw\").show();"
   ]
  },
  {
   "cell_type": "code",
   "execution_count": 0,
   "metadata": {
    "application/vnd.databricks.v1+cell": {
     "cellMetadata": {
      "byteLimit": 2048000,
      "rowLimit": 10000
     },
     "inputWidgets": {},
     "nuid": "84f32ed3-e82b-4126-b528-51caa9202fe2",
     "showTitle": false,
     "tableResultSettingsMap": {},
     "title": ""
    }
   },
   "outputs": [
    {
     "output_type": "stream",
     "name": "stdout",
     "output_type": "stream",
     "text": [
      "+--------+--------------+-----------+\n|database|     tableName|isTemporary|\n+--------+--------------+-----------+\n|    lhdw| dim_categoria|      false|\n|    lhdw|   dim_cliente|      false|\n|    lhdw|dim_fabricante|      false|\n|    lhdw| dim_geografia|      false|\n|    lhdw|   dim_produto|      false|\n|    lhdw|  dim_segmento|      false|\n|    lhdw|   fato_vendas|      false|\n+--------+--------------+-----------+\n\n"
     ]
    }
   ],
   "source": [
    "# Caminho da tabela no Volume\n",
    "nome_tabela = \"fato_vendas\"\n",
    "delta_path = f\"/Volumes/workspace/lhdw/gold/vendas_delta/{nome_tabela}\"\n",
    "\n",
    "# Ler os dados do Delta\n",
    "df = spark.read.format(\"delta\").load(delta_path)\n",
    "\n",
    "# Registrar no catálogo (sem option(\"path\"))\n",
    "df.write.format(\"delta\") \\\n",
    "    .mode(\"overwrite\") \\\n",
    "    .saveAsTable(f\"workspace.lhdw.{nome_tabela}\")\n",
    "# Verifique se a tabela foi criada\n",
    "spark.sql(\"SHOW TABLES IN workspace.lhdw\").show();"
   ]
  },
  {
   "cell_type": "code",
   "execution_count": 0,
   "metadata": {
    "application/vnd.databricks.v1+cell": {
     "cellMetadata": {
      "byteLimit": 2048000,
      "rowLimit": 10000
     },
     "inputWidgets": {},
     "nuid": "1c03a4e9-fb16-4804-9008-57eecb2e09b1",
     "showTitle": false,
     "tableResultSettingsMap": {},
     "title": ""
    }
   },
   "outputs": [
    {
     "output_type": "execute_result",
     "data": {
      "text/plain": [
       "20061"
      ]
     },
     "execution_count": 30,
     "metadata": {},
     "output_type": "execute_result"
    }
   ],
   "source": [
    "import gc\n",
    "# spark.catalog.clearCache() não compativel com serverless\n",
    "# Coletar lixo após operações pesadas para liberar memória\n",
    "gc.collect()"
   ]
  }
 ],
 "metadata": {
  "application/vnd.databricks.v1+notebook": {
   "computePreferences": null,
   "dashboards": [],
   "environmentMetadata": null,
   "inputWidgetPreferences": null,
   "language": "python",
   "notebookMetadata": {
    "mostRecentlyExecutedCommandWithImplicitDF": {
     "commandId": -1,
     "dataframes": [
      "_sqldf"
     ]
    },
    "pythonIndentUnit": 4
   },
   "notebookName": "8 - Delta Tables",
   "widgets": {}
  },
  "language_info": {
   "name": "python"
  }
 },
 "nbformat": 4,
 "nbformat_minor": 0
}