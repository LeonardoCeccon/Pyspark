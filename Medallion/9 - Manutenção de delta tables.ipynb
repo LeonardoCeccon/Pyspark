{
 "cells": [
  {
   "cell_type": "code",
   "execution_count": 0,
   "metadata": {
    "application/vnd.databricks.v1+cell": {
     "cellMetadata": {
      "byteLimit": 2048000,
      "rowLimit": 10000
     },
     "inputWidgets": {},
     "nuid": "abf5c94e-5c83-4c84-bcc6-6d78a6bf2581",
     "showTitle": false,
     "tableResultSettingsMap": {},
     "title": ""
    }
   },
   "outputs": [],
   "source": [
    "from delta.tables import DeltaTable\n",
    "\n",
    "# Define os caminhos de armazenamento no Data Lake\n",
    "gold_path = \"/Volumes/workspace/lhdw/gold/vendas_delta/fato_vendas\"\n",
    "\n",
    "# Executa vacuum para remover arquivos não utilizados com mais de 7 dias\n",
    "# Periodo (7 dias = 168 horas)\n",
    "delta_table = DeltaTable.forPath(spark, gold_path)\n",
    "delta_table.vacuum(168)\n"
   ]
  },
  {
   "cell_type": "code",
   "execution_count": 0,
   "metadata": {
    "application/vnd.databricks.v1+cell": {
     "cellMetadata": {
      "byteLimit": 2048000,
      "rowLimit": 10000
     },
     "inputWidgets": {},
     "nuid": "2ca09092-9d19-498a-bc46-6714a5fccac0",
     "showTitle": false,
     "tableResultSettingsMap": {},
     "title": ""
    }
   },
   "outputs": [
    {
     "output_type": "execute_result",
     "data": {
      "text/plain": [
       "DataFrame[path: string, metrics: struct<autoCompactParallelismStats:void,clusteringMetrics:void,clusteringStats:void,deletionVectorStats:struct<numDeletionVectorRowsRemoved:bigint,numDeletionVectorsRemoved:bigint>,endTimeMs:bigint,filesAdded:struct<avg:double,max:void,min:void,totalFiles:bigint,totalSize:bigint>,filesRemoved:struct<avg:double,max:void,min:void,totalFiles:bigint,totalSize:bigint>,numBatches:bigint,numBins:bigint,numBytesSkippedToReduceWriteAmplification:bigint,numFilesAdded:bigint,numFilesRemoved:bigint,numFilesSkippedToReduceWriteAmplification:bigint,numTableColumns:bigint,numTableColumnsWithStats:bigint,partitionsOptimized:bigint,preserveInsertionOrder:boolean,recompressionCodec:void,skippedArchivedFiles:bigint,startTimeMs:bigint,totalClusterParallelism:bigint,totalConsideredFiles:bigint,totalFilesSkipped:bigint,totalScheduledTasks:bigint,totalTaskExecutionTimeMs:bigint,zOrderStats:void>]"
      ]
     },
     "execution_count": 7,
     "metadata": {},
     "output_type": "execute_result"
    }
   ],
   "source": [
    "from delta.tables import *\n",
    "# Define os caminhos de armazenamento no Data Lake\n",
    "gold_path = \"/Volumes/workspace/lhdw/gold/vendas_delta/fato_vendas\"\n",
    "# Otimiza a tabela combinando arquivos pequenos em arquivos maiores\n",
    "delta_table = DeltaTable.forPath(spark, gold_path)\n",
    "delta_table.optimize().executeCompaction()\n"
   ]
  },
  {
   "cell_type": "code",
   "execution_count": 0,
   "metadata": {
    "application/vnd.databricks.v1+cell": {
     "cellMetadata": {
      "byteLimit": 2048000,
      "implicitDf": true,
      "rowLimit": 10000
     },
     "inputWidgets": {},
     "nuid": "1445b2ca-1544-4a88-a270-b64de321398a",
     "showTitle": false,
     "tableResultSettingsMap": {},
     "title": ""
    }
   },
   "outputs": [
    {
     "output_type": "execute_result",
     "data": {
      "text/plain": [
       "DataFrame[path: string, metrics: struct<numFilesAdded:bigint,numFilesRemoved:bigint,filesAdded:struct<min:bigint,max:bigint,avg:double,totalFiles:bigint,totalSize:bigint>,filesRemoved:struct<min:bigint,max:bigint,avg:double,totalFiles:bigint,totalSize:bigint>,partitionsOptimized:bigint,zOrderStats:struct<strategyName:string,inputCubeFiles:struct<num:bigint,size:bigint>,inputOtherFiles:struct<num:bigint,size:bigint>,inputNumCubes:bigint,mergedFiles:struct<num:bigint,size:bigint>,numOutputCubes:bigint,mergedNumCubes:bigint>,clusteringStats:struct<inputZCubeFiles:struct<numFiles:bigint,size:bigint>,inputOtherFiles:struct<numFiles:bigint,size:bigint>,inputNumZCubes:bigint,mergedFiles:struct<numFiles:bigint,size:bigint>,numOutputZCubes:bigint>,numBins:bigint,numBatches:bigint,totalConsideredFiles:bigint,totalFilesSkipped:bigint,preserveInsertionOrder:boolean,numFilesSkippedToReduceWriteAmplification:bigint,numBytesSkippedToReduceWriteAmplification:bigint,startTimeMs:bigint,endTimeMs:bigint,totalClusterParallelism:bigint,totalScheduledTasks:bigint,autoCompactParallelismStats:struct<maxClusterActiveParallelism:bigint,minClusterActiveParallelism:bigint,maxSessionActiveParallelism:bigint,minSessionActiveParallelism:bigint>,deletionVectorStats:struct<numDeletionVectorsRemoved:bigint,numDeletionVectorRowsRemoved:bigint>,recompressionCodec:string,numTableColumns:bigint,numTableColumnsWithStats:bigint,totalTaskExecutionTimeMs:bigint,skippedArchivedFiles:bigint,clusteringMetrics:struct<sizeOfTableInBytesBeforeLazyClustering:bigint,isNewMetadataCreated:boolean,isPOTriggered:boolean,isFull:boolean,approxClusteringQuality:double,approxClusteringQualityPerColumn:array<double>,approxClusteringCoverage:double,compactionType:string,numFilesSkippedWithoutStats:bigint,numFilesClassifiedToIntermediateNodes:bigint,sizeOfFilesClassifiedToIntermediateNodesInBytes:bigint,logicalSizeOfFilesClassifiedToIntermediateNodesInBytes:bigint,numFilesClassifiedToLeafNodes:bigint,sizeOfFilesClassifiedToLeafNodesInBytes:bigint,logicalSizeOfFilesClassifiedToLeafNodesInBytes:bigint,numThreadsForClassifier:int,clusterThresholdStrategy:string,minFileSize:bigint,maxFileSize:bigint,nodeMinNumFilesToCompact:bigint,numIdealFiles:bigint,numIdealFilesWithTrimmedStringMaxValue:bigint,numAddedFilesWithSameMinMaxOnClusteringColumns:array<bigint>,numClusteringTasksPlanned:int,numClusteringTasksNotPlannedDueToPO:int,numCompactionTasksPlanned:int,numCompactionTasksPlannedUndoneDueToPO:int,numOptimizeBatchesPlanned:int,numLeafNodesExpanded:bigint,numLeafNodesClustered:bigint,numGetFilesForNodeCalls:bigint,numSamplingJobs:bigint,numLeafNodesCompacted:bigint,numLeafNodesCompactedUndoneDueToPO:bigint,numIntermediateNodesCompacted:bigint,numIntermediateNodesCompactedUndoneDueToPO:bigint,totalSizeOfDataToCompactInBytes:bigint,totalSizeOfDataToCompactInBytesUndoneDueToPO:bigint,totalLogicalSizeOfDataToCompactInBytes:bigint,totalLogicalSizeOfDataToCompactInBytesUndoneDueToPO:bigint,numIntermediateNodesClustered:bigint,numFilesSkippedAfterExpansion:bigint,totalSizeOfFilesSkippedAfterExpansionInBytes:bigint,totalLogicalSizeOfFilesSkippedAfterExpansionInBytes:bigint,totalSizeOfDataToRewriteInBytes:bigint,totalLogicalSizeOfDataToRewriteInBytes:bigint,timeMetrics:struct<classifierTimeMs:bigint,optimizerTimeMs:bigint,metadataLoadTimeMs:bigint,totalGetFilesForNodeCallsTimeMs:bigint,totalSamplingTimeMs:bigint,metadataCreationTimeMs:bigint>,maxOptimizeBatchesInParallel:bigint,currentIteration:int,maxIterations:int,clusteringStrategy:string>>]"
      ]
     },
     "execution_count": 8,
     "metadata": {},
     "output_type": "execute_result"
    }
   ],
   "source": [
    "\n",
    "from delta.tables import DeltaTable, DeltaOptimizeBuilder\n",
    "# Executa optimize com Z-Ordering na coluna \"DataVenda\"\n",
    "\n",
    "# Load the Delta table\n",
    "delta_table = DeltaTable.forPath(spark, gold_path)\n",
    "\n",
    "# Execute Z-Ordering optimization on the column \"DataVenda\"\n",
    "#delta_table.optimize().#executeZOrderBy(\"DataVenda\").#execute()\n",
    "\n",
    "spark.sql(f\"\"\"OPTIMIZE delta.`{gold_path}` ZORDER BY (DataVenda)\"\"\")\n"
   ]
  },
  {
   "cell_type": "code",
   "execution_count": 0,
   "metadata": {
    "application/vnd.databricks.v1+cell": {
     "cellMetadata": {
      "byteLimit": 2048000,
      "rowLimit": 10000
     },
     "inputWidgets": {},
     "nuid": "fa45bd4a-c743-4041-b847-d1921bb2921b",
     "showTitle": false,
     "tableResultSettingsMap": {},
     "title": ""
    }
   },
   "outputs": [
    {
     "output_type": "execute_result",
     "data": {
      "text/plain": [
       "DataFrame[num_affected_rows: bigint, num_updated_rows: bigint, num_deleted_rows: bigint, num_inserted_rows: bigint]"
      ]
     },
     "execution_count": 9,
     "metadata": {},
     "output_type": "execute_result"
    }
   ],
   "source": [
    "from delta.tables import DeltaTable\n",
    "from pyspark.sql.functions import lit, max, current_timestamp\n",
    "\n",
    "# Carregar a tabela Delta\n",
    "delta_table = DeltaTable.forPath(spark, \"/Volumes/workspace//lhdw/gold/vendas_delta/dim_fabricante\")\n",
    "\n",
    "# Calcular o próximo valor de SK_Fabricante\n",
    "next_sk = delta_table.toDF().select(max(\"sk_fabricante\")).collect()[0][0] + 1\n",
    "\n",
    "# Criar uma nova linha para ser inserida\n",
    "new_row = spark.createDataFrame([\n",
    "    (8, \"Novo Fabricante\", next_sk)  # Supondo que 8 seja um IDFabricante de exemplo\n",
    "], [\"IDFabricante\", \"Fabricante\", \"sk_fabricante\"])\n",
    "\n",
    "# Adicionar a coluna DataAtualizacao com o tipo correto\n",
    "new_row = new_row.withColumn(\"data_atualizacao\", current_timestamp())\n",
    "\n",
    "# Executar a operação de inserção\n",
    "delta_table.alias(\"target\").merge(\n",
    "    new_row.alias(\"source\"),\n",
    "    \"target.IDFabricante = source.IDFabricante\"\n",
    ").whenNotMatchedInsertAll().execute()\n"
   ]
  },
  {
   "cell_type": "markdown",
   "metadata": {
    "application/vnd.databricks.v1+cell": {
     "cellMetadata": {},
     "inputWidgets": {},
     "nuid": "b603f463-4ad2-4da7-b2be-4e7cca220fff",
     "showTitle": false,
     "tableResultSettingsMap": {},
     "title": ""
    }
   },
   "source": [
    "###Exemplo de Update"
   ]
  },
  {
   "cell_type": "code",
   "execution_count": 0,
   "metadata": {
    "application/vnd.databricks.v1+cell": {
     "cellMetadata": {
      "byteLimit": 2048000,
      "rowLimit": 10000
     },
     "inputWidgets": {},
     "nuid": "72924c9d-07fe-4e15-89fc-250642c5fc19",
     "showTitle": false,
     "tableResultSettingsMap": {},
     "title": ""
    }
   },
   "outputs": [
    {
     "output_type": "execute_result",
     "data": {
      "text/plain": [
       "DataFrame[num_affected_rows: bigint]"
      ]
     },
     "execution_count": 10,
     "metadata": {},
     "output_type": "execute_result"
    }
   ],
   "source": [
    "from delta.tables import DeltaTable\n",
    "from pyspark.sql.functions import col, current_timestamp\n",
    "\n",
    "# Exemplo de update\n",
    "delta_table = DeltaTable.forPath(spark, \"/Volumes/workspace//lhdw/gold/vendas_delta/dim_fabricante\")\n",
    "delta_table.update(\n",
    "    condition = col(\"IDFabricante\") == 7,  # Condição de update\n",
    "    set = { \n",
    "        \"Fabricante\": \"'VanArsdel Inc.'\",\n",
    "        \"data_atualizacao\": current_timestamp()\n",
    "    }  # Atualização de valor\n",
    ")"
   ]
  },
  {
   "cell_type": "markdown",
   "metadata": {
    "application/vnd.databricks.v1+cell": {
     "cellMetadata": {},
     "inputWidgets": {},
     "nuid": "431d48be-dc38-4a3a-9768-d557edc1e8d8",
     "showTitle": false,
     "tableResultSettingsMap": {},
     "title": ""
    }
   },
   "source": [
    "###Exemplo de Delete"
   ]
  },
  {
   "cell_type": "code",
   "execution_count": 0,
   "metadata": {
    "application/vnd.databricks.v1+cell": {
     "cellMetadata": {
      "byteLimit": 2048000,
      "rowLimit": 10000
     },
     "inputWidgets": {},
     "nuid": "61be8716-c6bb-45fb-89f9-782b2beb7840",
     "showTitle": false,
     "tableResultSettingsMap": {},
     "title": ""
    }
   },
   "outputs": [
    {
     "output_type": "execute_result",
     "data": {
      "text/plain": [
       "DataFrame[num_affected_rows: bigint]"
      ]
     },
     "execution_count": 11,
     "metadata": {},
     "output_type": "execute_result"
    }
   ],
   "source": [
    "# Exemplo de delete\n",
    "delta_table.delete(condition = col(\"IDFabricante\") == 8)\n",
    "\n"
   ]
  },
  {
   "cell_type": "markdown",
   "metadata": {
    "application/vnd.databricks.v1+cell": {
     "cellMetadata": {},
     "inputWidgets": {},
     "nuid": "033bddbf-ee9f-4d7e-aff8-49e44a51d187",
     "showTitle": false,
     "tableResultSettingsMap": {},
     "title": ""
    }
   },
   "source": [
    "###Exemplo de UPSERT"
   ]
  },
  {
   "cell_type": "code",
   "execution_count": 0,
   "metadata": {
    "application/vnd.databricks.v1+cell": {
     "cellMetadata": {
      "byteLimit": 2048000,
      "rowLimit": 10000
     },
     "inputWidgets": {},
     "nuid": "47cc1f66-58e0-492d-acb7-16cc338965d3",
     "showTitle": false,
     "tableResultSettingsMap": {},
     "title": ""
    }
   },
   "outputs": [
    {
     "output_type": "execute_result",
     "data": {
      "text/plain": [
       "DataFrame[num_affected_rows: bigint, num_updated_rows: bigint, num_deleted_rows: bigint, num_inserted_rows: bigint]"
      ]
     },
     "execution_count": 12,
     "metadata": {},
     "output_type": "execute_result"
    }
   ],
   "source": [
    "from pyspark.sql import SparkSession\n",
    "from delta.tables import DeltaTable\n",
    "from pyspark.sql.functions import monotonically_increasing_id, current_timestamp\n",
    "\n",
    "# Carregue o DataFrame de origem (novos dados)\n",
    "df_silver = spark.read.format(\"parquet\").load(\"/Volumes/workspace/lhdw/silver/vendas/\")\n",
    "\n",
    "#Nome tabela destino\n",
    "tb_destino = \"dim_fabricante\"\n",
    "\n",
    "# Extrair produtos únicos para a dimensão Fabricante    \n",
    "dim_fabricante_df = df_silver.select(\n",
    "    \"IDFabricante\", \"Fabricante\").dropDuplicates()\n",
    "\n",
    "# Adicionar chave substituta (surrogate keys)\n",
    "dim_fabricante_df = dim_fabricante_df.withColumn(\"sk_fabricante\", monotonically_increasing_id()+1)\n",
    "# Carregue o DataFrame de destino (tabela existente)\n",
    "df_target = DeltaTable.forPath(spark, \"/Volumes/workspace/lhdw/gold/vendas_delta/dim_fabricante\")\n",
    "\n",
    "# Realize a operação de merge\n",
    "df_target.alias(\"target\").merge(\n",
    "    dim_fabricante_df.alias(\"source\"),\n",
    "    \"target.IDFabricante = source.IDFabricante\"\n",
    ").whenMatchedUpdate(set={\n",
    "    \"Fabricante\": \"source.Fabricante\",\n",
    "    \"SK_Fabricante\": \"source.SK_Fabricante\",\n",
    "    \"data_atualizacao\": current_timestamp()\n",
    "}).whenNotMatchedInsert(values={\n",
    "    \"Fabricante\": \"source.Fabricante\",\n",
    "    \"IDFabricante\": \"source.IDFabricante\",\n",
    "    \"SK_Fabricante\": \"source.SK_Fabricante\",\n",
    "    \"data_atualizacao\": current_timestamp()\n",
    "}).execute()\n"
   ]
  },
  {
   "cell_type": "code",
   "execution_count": 0,
   "metadata": {
    "application/vnd.databricks.v1+cell": {
     "cellMetadata": {
      "byteLimit": 2048000,
      "rowLimit": 10000
     },
     "inputWidgets": {},
     "nuid": "59ae9ecd-4a94-45f4-916a-aad8dd0845a0",
     "showTitle": false,
     "tableResultSettingsMap": {},
     "title": ""
    }
   },
   "outputs": [
    {
     "output_type": "display_data",
     "data": {
      "text/html": [
       "<style scoped>\n",
       "  .table-result-container {\n",
       "    max-height: 300px;\n",
       "    overflow: auto;\n",
       "  }\n",
       "  table, th, td {\n",
       "    border: 1px solid black;\n",
       "    border-collapse: collapse;\n",
       "  }\n",
       "  th, td {\n",
       "    padding: 5px;\n",
       "  }\n",
       "  th {\n",
       "    text-align: left;\n",
       "  }\n",
       "</style><div class='table-result-container'><table class='table-result'><thead style='background-color: white'><tr><th>version</th><th>timestamp</th><th>userId</th><th>userName</th><th>operation</th><th>operationParameters</th><th>job</th><th>notebook</th><th>clusterId</th><th>readVersion</th><th>isolationLevel</th><th>isBlindAppend</th><th>operationMetrics</th><th>userMetadata</th><th>engineInfo</th></tr></thead><tbody><tr><td>9</td><td>2025-08-27T23:26:48.000Z</td><td>8795980509812597</td><td>77andrerosa@gmail.com</td><td>MERGE</td><td>Map(predicate -> [\"(IDFabricante#17273 = IDFabricante#17284)\"], clusterBy -> [], matchedPredicates -> [{\"actionType\":\"update\"}], statsOnLoad -> false, notMatchedBySourcePredicates -> [], notMatchedPredicates -> [{\"actionType\":\"insert\"}])</td><td>null</td><td>List(3187551953004534)</td><td>0827-223943-pqpmleh1-v2n</td><td>8</td><td>WriteSerializable</td><td>false</td><td>Map(numTargetRowsCopied -> 0, numTargetRowsDeleted -> 0, numTargetFilesAdded -> 1, numTargetBytesAdded -> 1336, numTargetBytesRemoved -> 1373, numTargetDeletionVectorsAdded -> 0, numTargetRowsMatchedUpdated -> 1, executionTimeMs -> 2562, materializeSourceTimeMs -> 524, numTargetRowsInserted -> 0, numTargetRowsMatchedDeleted -> 0, numTargetDeletionVectorsUpdated -> 0, scanTimeMs -> 1085, numTargetRowsUpdated -> 1, numOutputRows -> 1, numTargetDeletionVectorsRemoved -> 0, numTargetRowsNotMatchedBySourceUpdated -> 0, numTargetChangeFilesAdded -> 0, numSourceRows -> 1, numTargetFilesRemoved -> 1, numTargetRowsNotMatchedBySourceDeleted -> 0, rewriteTimeMs -> 876)</td><td>null</td><td>Databricks-Runtime/17.1.x-aarch64-photon-scala2.13</td></tr><tr><td>8</td><td>2025-08-27T23:26:07.000Z</td><td>8795980509812597</td><td>77andrerosa@gmail.com</td><td>DELETE</td><td>Map(predicate -> [\"(IDFabricante#17127 = 8)\"])</td><td>null</td><td>List(3187551953004534)</td><td>0827-223943-pqpmleh1-v2n</td><td>7</td><td>WriteSerializable</td><td>false</td><td>Map(numRemovedFiles -> 1, numRemovedBytes -> 1372, numCopiedRows -> 0, numDeletionVectorsAdded -> 0, numDeletionVectorsRemoved -> 0, numAddedChangeFiles -> 0, executionTimeMs -> 913, numDeletionVectorsUpdated -> 0, numDeletedRows -> 1, scanTimeMs -> 855, numAddedFiles -> 0, numAddedBytes -> 0, rewriteTimeMs -> 52)</td><td>null</td><td>Databricks-Runtime/17.1.x-aarch64-photon-scala2.13</td></tr><tr><td>7</td><td>2025-08-27T23:25:55.000Z</td><td>8795980509812597</td><td>77andrerosa@gmail.com</td><td>UPDATE</td><td>Map(predicate -> [\"(IDFabricante#16847 = 7)\"])</td><td>null</td><td>List(3187551953004534)</td><td>0827-223943-pqpmleh1-v2n</td><td>6</td><td>WriteSerializable</td><td>false</td><td>Map(numRemovedFiles -> 1, numRemovedBytes -> 1090, numCopiedRows -> 0, numDeletionVectorsAdded -> 0, numDeletionVectorsRemoved -> 0, numAddedChangeFiles -> 0, executionTimeMs -> 2345, numDeletionVectorsUpdated -> 0, scanTimeMs -> 1425, numAddedFiles -> 1, numUpdatedRows -> 1, numAddedBytes -> 1373, rewriteTimeMs -> 907)</td><td>null</td><td>Databricks-Runtime/17.1.x-aarch64-photon-scala2.13</td></tr><tr><td>6</td><td>2025-08-27T23:25:30.000Z</td><td>8795980509812597</td><td>77andrerosa@gmail.com</td><td>MERGE</td><td>Map(predicate -> [\"(cast(IDFabricante#16698 as bigint) = IDFabricante#16714L)\"], clusterBy -> [], matchedPredicates -> [], statsOnLoad -> false, notMatchedBySourcePredicates -> [], notMatchedPredicates -> [{\"actionType\":\"insert\"}])</td><td>null</td><td>List(3187551953004534)</td><td>0827-223943-pqpmleh1-v2n</td><td>5</td><td>WriteSerializable</td><td>false</td><td>Map(numTargetRowsCopied -> 0, numTargetRowsDeleted -> 0, numTargetFilesAdded -> 1, numTargetBytesAdded -> 1372, numTargetBytesRemoved -> 0, numTargetDeletionVectorsAdded -> 0, numTargetRowsMatchedUpdated -> 0, executionTimeMs -> 1112, materializeSourceTimeMs -> 8, numTargetRowsInserted -> 1, numTargetRowsMatchedDeleted -> 0, numTargetDeletionVectorsUpdated -> 0, scanTimeMs -> 0, numTargetRowsUpdated -> 0, numOutputRows -> 1, numTargetDeletionVectorsRemoved -> 0, numTargetRowsNotMatchedBySourceUpdated -> 0, numTargetChangeFilesAdded -> 0, numSourceRows -> 1, numTargetFilesRemoved -> 0, numTargetRowsNotMatchedBySourceDeleted -> 0, rewriteTimeMs -> 1028)</td><td>null</td><td>Databricks-Runtime/17.1.x-aarch64-photon-scala2.13</td></tr><tr><td>5</td><td>2025-08-27T22:32:22.000Z</td><td>8795980509812597</td><td>77andrerosa@gmail.com</td><td>WRITE</td><td>Map(mode -> Overwrite, statsOnLoad -> false, partitionBy -> [])</td><td>null</td><td>List(3187551953004531)</td><td>0827-213204-n5txtbgw-v2n</td><td>4</td><td>WriteSerializable</td><td>false</td><td>Map(numFiles -> 1, numRemovedFiles -> 0, numRemovedBytes -> 0, numOutputRows -> 1, numOutputBytes -> 1090)</td><td>null</td><td>Databricks-Runtime/17.1.x-photon-scala2.13</td></tr><tr><td>4</td><td>2025-08-27T18:59:27.000Z</td><td>8795980509812597</td><td>77andrerosa@gmail.com</td><td>WRITE</td><td>Map(mode -> Overwrite, statsOnLoad -> false, partitionBy -> [])</td><td>null</td><td>List(3187551953004532)</td><td>0827-184919-f51vnf4m-v2n</td><td>3</td><td>WriteSerializable</td><td>false</td><td>Map(numFiles -> 0, numRemovedFiles -> 1, numRemovedBytes -> 1090, numOutputRows -> 0, numOutputBytes -> 0)</td><td>null</td><td>Databricks-Runtime/17.1.x-photon-scala2.13</td></tr><tr><td>3</td><td>2025-08-27T18:53:35.000Z</td><td>8795980509812597</td><td>77andrerosa@gmail.com</td><td>WRITE</td><td>Map(mode -> Overwrite, statsOnLoad -> false, partitionBy -> [])</td><td>null</td><td>List(3187551953004531)</td><td>0827-184919-f51vnf4m-v2n</td><td>2</td><td>WriteSerializable</td><td>false</td><td>Map(numFiles -> 1, numRemovedFiles -> 0, numRemovedBytes -> 0, numOutputRows -> 1, numOutputBytes -> 1090)</td><td>null</td><td>Databricks-Runtime/17.1.x-photon-scala2.13</td></tr><tr><td>2</td><td>2025-08-25T21:10:47.000Z</td><td>8795980509812597</td><td>77andrerosa@gmail.com</td><td>WRITE</td><td>Map(mode -> Overwrite, statsOnLoad -> false, partitionBy -> [])</td><td>null</td><td>List(3187551953004532)</td><td>0825-203734-xlkg5w02-v2n</td><td>1</td><td>WriteSerializable</td><td>false</td><td>Map(numFiles -> 0, numRemovedFiles -> 0, numRemovedBytes -> 0, numOutputRows -> 0, numOutputBytes -> 0)</td><td>null</td><td>Databricks-Runtime/17.1.x-photon-scala2.13</td></tr><tr><td>1</td><td>2025-08-25T21:05:12.000Z</td><td>8795980509812597</td><td>77andrerosa@gmail.com</td><td>WRITE</td><td>Map(mode -> Overwrite, statsOnLoad -> false, partitionBy -> [])</td><td>null</td><td>List(3187551953004532)</td><td>0825-203734-xlkg5w02-v2n</td><td>0</td><td>WriteSerializable</td><td>false</td><td>Map(numFiles -> 0, numRemovedFiles -> 1, numRemovedBytes -> 1090, numOutputRows -> 0, numOutputBytes -> 0)</td><td>null</td><td>Databricks-Runtime/17.1.x-photon-scala2.13</td></tr><tr><td>0</td><td>2025-08-25T20:59:46.000Z</td><td>8795980509812597</td><td>77andrerosa@gmail.com</td><td>WRITE</td><td>Map(mode -> Overwrite, statsOnLoad -> false, partitionBy -> [])</td><td>null</td><td>List(3187551953004531)</td><td>0825-203734-xlkg5w02-v2n</td><td>null</td><td>WriteSerializable</td><td>false</td><td>Map(numFiles -> 1, numRemovedFiles -> 0, numRemovedBytes -> 0, numOutputRows -> 1, numOutputBytes -> 1090)</td><td>null</td><td>Databricks-Runtime/17.1.x-photon-scala2.13</td></tr></tbody></table></div>"
      ]
     },
     "metadata": {
      "application/vnd.databricks.v1+output": {
       "addedWidgets": {},
       "aggData": [],
       "aggError": "",
       "aggOverflow": false,
       "aggSchema": [],
       "aggSeriesLimitReached": false,
       "aggType": "",
       "arguments": {},
       "columnCustomDisplayInfos": {},
       "data": [
        [
         9,
         "2025-08-27T23:26:48.000Z",
         "8795980509812597",
         "77andrerosa@gmail.com",
         "MERGE",
         {
          "clusterBy": "[]",
          "matchedPredicates": "[{\"actionType\":\"update\"}]",
          "notMatchedBySourcePredicates": "[]",
          "notMatchedPredicates": "[{\"actionType\":\"insert\"}]",
          "predicate": "[\"(IDFabricante#17273 = IDFabricante#17284)\"]",
          "statsOnLoad": "false"
         },
         null,
         [
          "3187551953004534"
         ],
         "0827-223943-pqpmleh1-v2n",
         8,
         "WriteSerializable",
         false,
         {
          "executionTimeMs": "2562",
          "materializeSourceTimeMs": "524",
          "numOutputRows": "1",
          "numSourceRows": "1",
          "numTargetBytesAdded": "1336",
          "numTargetBytesRemoved": "1373",
          "numTargetChangeFilesAdded": "0",
          "numTargetDeletionVectorsAdded": "0",
          "numTargetDeletionVectorsRemoved": "0",
          "numTargetDeletionVectorsUpdated": "0",
          "numTargetFilesAdded": "1",
          "numTargetFilesRemoved": "1",
          "numTargetRowsCopied": "0",
          "numTargetRowsDeleted": "0",
          "numTargetRowsInserted": "0",
          "numTargetRowsMatchedDeleted": "0",
          "numTargetRowsMatchedUpdated": "1",
          "numTargetRowsNotMatchedBySourceDeleted": "0",
          "numTargetRowsNotMatchedBySourceUpdated": "0",
          "numTargetRowsUpdated": "1",
          "rewriteTimeMs": "876",
          "scanTimeMs": "1085"
         },
         null,
         "Databricks-Runtime/17.1.x-aarch64-photon-scala2.13"
        ],
        [
         8,
         "2025-08-27T23:26:07.000Z",
         "8795980509812597",
         "77andrerosa@gmail.com",
         "DELETE",
         {
          "predicate": "[\"(IDFabricante#17127 = 8)\"]"
         },
         null,
         [
          "3187551953004534"
         ],
         "0827-223943-pqpmleh1-v2n",
         7,
         "WriteSerializable",
         false,
         {
          "executionTimeMs": "913",
          "numAddedBytes": "0",
          "numAddedChangeFiles": "0",
          "numAddedFiles": "0",
          "numCopiedRows": "0",
          "numDeletedRows": "1",
          "numDeletionVectorsAdded": "0",
          "numDeletionVectorsRemoved": "0",
          "numDeletionVectorsUpdated": "0",
          "numRemovedBytes": "1372",
          "numRemovedFiles": "1",
          "rewriteTimeMs": "52",
          "scanTimeMs": "855"
         },
         null,
         "Databricks-Runtime/17.1.x-aarch64-photon-scala2.13"
        ],
        [
         7,
         "2025-08-27T23:25:55.000Z",
         "8795980509812597",
         "77andrerosa@gmail.com",
         "UPDATE",
         {
          "predicate": "[\"(IDFabricante#16847 = 7)\"]"
         },
         null,
         [
          "3187551953004534"
         ],
         "0827-223943-pqpmleh1-v2n",
         6,
         "WriteSerializable",
         false,
         {
          "executionTimeMs": "2345",
          "numAddedBytes": "1373",
          "numAddedChangeFiles": "0",
          "numAddedFiles": "1",
          "numCopiedRows": "0",
          "numDeletionVectorsAdded": "0",
          "numDeletionVectorsRemoved": "0",
          "numDeletionVectorsUpdated": "0",
          "numRemovedBytes": "1090",
          "numRemovedFiles": "1",
          "numUpdatedRows": "1",
          "rewriteTimeMs": "907",
          "scanTimeMs": "1425"
         },
         null,
         "Databricks-Runtime/17.1.x-aarch64-photon-scala2.13"
        ],
        [
         6,
         "2025-08-27T23:25:30.000Z",
         "8795980509812597",
         "77andrerosa@gmail.com",
         "MERGE",
         {
          "clusterBy": "[]",
          "matchedPredicates": "[]",
          "notMatchedBySourcePredicates": "[]",
          "notMatchedPredicates": "[{\"actionType\":\"insert\"}]",
          "predicate": "[\"(cast(IDFabricante#16698 as bigint) = IDFabricante#16714L)\"]",
          "statsOnLoad": "false"
         },
         null,
         [
          "3187551953004534"
         ],
         "0827-223943-pqpmleh1-v2n",
         5,
         "WriteSerializable",
         false,
         {
          "executionTimeMs": "1112",
          "materializeSourceTimeMs": "8",
          "numOutputRows": "1",
          "numSourceRows": "1",
          "numTargetBytesAdded": "1372",
          "numTargetBytesRemoved": "0",
          "numTargetChangeFilesAdded": "0",
          "numTargetDeletionVectorsAdded": "0",
          "numTargetDeletionVectorsRemoved": "0",
          "numTargetDeletionVectorsUpdated": "0",
          "numTargetFilesAdded": "1",
          "numTargetFilesRemoved": "0",
          "numTargetRowsCopied": "0",
          "numTargetRowsDeleted": "0",
          "numTargetRowsInserted": "1",
          "numTargetRowsMatchedDeleted": "0",
          "numTargetRowsMatchedUpdated": "0",
          "numTargetRowsNotMatchedBySourceDeleted": "0",
          "numTargetRowsNotMatchedBySourceUpdated": "0",
          "numTargetRowsUpdated": "0",
          "rewriteTimeMs": "1028",
          "scanTimeMs": "0"
         },
         null,
         "Databricks-Runtime/17.1.x-aarch64-photon-scala2.13"
        ],
        [
         5,
         "2025-08-27T22:32:22.000Z",
         "8795980509812597",
         "77andrerosa@gmail.com",
         "WRITE",
         {
          "mode": "Overwrite",
          "partitionBy": "[]",
          "statsOnLoad": "false"
         },
         null,
         [
          "3187551953004531"
         ],
         "0827-213204-n5txtbgw-v2n",
         4,
         "WriteSerializable",
         false,
         {
          "numFiles": "1",
          "numOutputBytes": "1090",
          "numOutputRows": "1",
          "numRemovedBytes": "0",
          "numRemovedFiles": "0"
         },
         null,
         "Databricks-Runtime/17.1.x-photon-scala2.13"
        ],
        [
         4,
         "2025-08-27T18:59:27.000Z",
         "8795980509812597",
         "77andrerosa@gmail.com",
         "WRITE",
         {
          "mode": "Overwrite",
          "partitionBy": "[]",
          "statsOnLoad": "false"
         },
         null,
         [
          "3187551953004532"
         ],
         "0827-184919-f51vnf4m-v2n",
         3,
         "WriteSerializable",
         false,
         {
          "numFiles": "0",
          "numOutputBytes": "0",
          "numOutputRows": "0",
          "numRemovedBytes": "1090",
          "numRemovedFiles": "1"
         },
         null,
         "Databricks-Runtime/17.1.x-photon-scala2.13"
        ],
        [
         3,
         "2025-08-27T18:53:35.000Z",
         "8795980509812597",
         "77andrerosa@gmail.com",
         "WRITE",
         {
          "mode": "Overwrite",
          "partitionBy": "[]",
          "statsOnLoad": "false"
         },
         null,
         [
          "3187551953004531"
         ],
         "0827-184919-f51vnf4m-v2n",
         2,
         "WriteSerializable",
         false,
         {
          "numFiles": "1",
          "numOutputBytes": "1090",
          "numOutputRows": "1",
          "numRemovedBytes": "0",
          "numRemovedFiles": "0"
         },
         null,
         "Databricks-Runtime/17.1.x-photon-scala2.13"
        ],
        [
         2,
         "2025-08-25T21:10:47.000Z",
         "8795980509812597",
         "77andrerosa@gmail.com",
         "WRITE",
         {
          "mode": "Overwrite",
          "partitionBy": "[]",
          "statsOnLoad": "false"
         },
         null,
         [
          "3187551953004532"
         ],
         "0825-203734-xlkg5w02-v2n",
         1,
         "WriteSerializable",
         false,
         {
          "numFiles": "0",
          "numOutputBytes": "0",
          "numOutputRows": "0",
          "numRemovedBytes": "0",
          "numRemovedFiles": "0"
         },
         null,
         "Databricks-Runtime/17.1.x-photon-scala2.13"
        ],
        [
         1,
         "2025-08-25T21:05:12.000Z",
         "8795980509812597",
         "77andrerosa@gmail.com",
         "WRITE",
         {
          "mode": "Overwrite",
          "partitionBy": "[]",
          "statsOnLoad": "false"
         },
         null,
         [
          "3187551953004532"
         ],
         "0825-203734-xlkg5w02-v2n",
         0,
         "WriteSerializable",
         false,
         {
          "numFiles": "0",
          "numOutputBytes": "0",
          "numOutputRows": "0",
          "numRemovedBytes": "1090",
          "numRemovedFiles": "1"
         },
         null,
         "Databricks-Runtime/17.1.x-photon-scala2.13"
        ],
        [
         0,
         "2025-08-25T20:59:46.000Z",
         "8795980509812597",
         "77andrerosa@gmail.com",
         "WRITE",
         {
          "mode": "Overwrite",
          "partitionBy": "[]",
          "statsOnLoad": "false"
         },
         null,
         [
          "3187551953004531"
         ],
         "0825-203734-xlkg5w02-v2n",
         null,
         "WriteSerializable",
         false,
         {
          "numFiles": "1",
          "numOutputBytes": "1090",
          "numOutputRows": "1",
          "numRemovedBytes": "0",
          "numRemovedFiles": "0"
         },
         null,
         "Databricks-Runtime/17.1.x-photon-scala2.13"
        ]
       ],
       "datasetInfos": [],
       "dbfsResultPath": null,
       "isJsonSchema": true,
       "metadata": {},
       "overflow": false,
       "plotOptions": {
        "customPlotOptions": {},
        "displayType": "table",
        "pivotAggregation": null,
        "pivotColumns": null,
        "xColumns": null,
        "yColumns": null
       },
       "removedWidgets": [],
       "schema": [
        {
         "metadata": "{}",
         "name": "version",
         "type": "\"long\""
        },
        {
         "metadata": "{}",
         "name": "timestamp",
         "type": "\"timestamp\""
        },
        {
         "metadata": "{}",
         "name": "userId",
         "type": "\"string\""
        },
        {
         "metadata": "{}",
         "name": "userName",
         "type": "\"string\""
        },
        {
         "metadata": "{}",
         "name": "operation",
         "type": "\"string\""
        },
        {
         "metadata": "{}",
         "name": "operationParameters",
         "type": "{\"keyType\":\"string\",\"type\":\"map\",\"valueContainsNull\":true,\"valueType\":\"string\"}"
        },
        {
         "metadata": "{}",
         "name": "job",
         "type": "{\"fields\":[{\"metadata\":{},\"name\":\"jobId\",\"nullable\":true,\"type\":\"string\"},{\"metadata\":{},\"name\":\"jobName\",\"nullable\":true,\"type\":\"string\"},{\"metadata\":{},\"name\":\"jobRunId\",\"nullable\":true,\"type\":\"string\"},{\"metadata\":{},\"name\":\"runId\",\"nullable\":true,\"type\":\"string\"},{\"metadata\":{},\"name\":\"jobOwnerId\",\"nullable\":true,\"type\":\"string\"},{\"metadata\":{},\"name\":\"triggerType\",\"nullable\":true,\"type\":\"string\"}],\"type\":\"struct\"}"
        },
        {
         "metadata": "{}",
         "name": "notebook",
         "type": "{\"fields\":[{\"metadata\":{},\"name\":\"notebookId\",\"nullable\":true,\"type\":\"string\"}],\"type\":\"struct\"}"
        },
        {
         "metadata": "{}",
         "name": "clusterId",
         "type": "\"string\""
        },
        {
         "metadata": "{}",
         "name": "readVersion",
         "type": "\"long\""
        },
        {
         "metadata": "{}",
         "name": "isolationLevel",
         "type": "\"string\""
        },
        {
         "metadata": "{}",
         "name": "isBlindAppend",
         "type": "\"boolean\""
        },
        {
         "metadata": "{}",
         "name": "operationMetrics",
         "type": "{\"keyType\":\"string\",\"type\":\"map\",\"valueContainsNull\":true,\"valueType\":\"string\"}"
        },
        {
         "metadata": "{}",
         "name": "userMetadata",
         "type": "\"string\""
        },
        {
         "metadata": "{}",
         "name": "engineInfo",
         "type": "\"string\""
        }
       ],
       "type": "table"
      }
     },
     "output_type": "display_data"
    }
   ],
   "source": [
    "from delta.tables import DeltaTable\n",
    "from pyspark.sql.functions import *\n",
    "\n",
    "# Visualizar o histórico da tabela Delta\n",
    "history_df = DeltaTable.forPath(spark, \"/Volumes/workspace/lhdw/gold/vendas_delta/dim_fabricante\").history()\n",
    "\n",
    "display(history_df)"
   ]
  },
  {
   "cell_type": "markdown",
   "metadata": {
    "application/vnd.databricks.v1+cell": {
     "cellMetadata": {},
     "inputWidgets": {},
     "nuid": "f9432069-a818-4938-9a60-5391f522c001",
     "showTitle": false,
     "tableResultSettingsMap": {},
     "title": ""
    }
   },
   "source": [
    "### Acessar versões antigas (Time Travel):"
   ]
  },
  {
   "cell_type": "code",
   "execution_count": 0,
   "metadata": {
    "application/vnd.databricks.v1+cell": {
     "cellMetadata": {
      "byteLimit": 2048000,
      "rowLimit": 10000
     },
     "inputWidgets": {},
     "nuid": "fa738c28-98f2-44f9-968d-924c9ebf9f7a",
     "showTitle": false,
     "tableResultSettingsMap": {},
     "title": ""
    }
   },
   "outputs": [
    {
     "output_type": "display_data",
     "data": {
      "text/html": [
       "<style scoped>\n",
       "  .table-result-container {\n",
       "    max-height: 300px;\n",
       "    overflow: auto;\n",
       "  }\n",
       "  table, th, td {\n",
       "    border: 1px solid black;\n",
       "    border-collapse: collapse;\n",
       "  }\n",
       "  th, td {\n",
       "    padding: 5px;\n",
       "  }\n",
       "  th {\n",
       "    text-align: left;\n",
       "  }\n",
       "</style><div class='table-result-container'><table class='table-result'><thead style='background-color: white'><tr><th>IDFabricante</th><th>Fabricante</th><th>sk_fabricante</th><th>data_atualizacao</th></tr></thead><tbody><tr><td>7</td><td>VanArsdel</td><td>1</td><td>2025-08-27T23:26:44.916Z</td></tr></tbody></table></div>"
      ]
     },
     "metadata": {
      "application/vnd.databricks.v1+output": {
       "addedWidgets": {},
       "aggData": [],
       "aggError": "",
       "aggOverflow": false,
       "aggSchema": [],
       "aggSeriesLimitReached": false,
       "aggType": "",
       "arguments": {},
       "columnCustomDisplayInfos": {},
       "data": [
        [
         7,
         "VanArsdel",
         1,
         "2025-08-27T23:26:44.916Z"
        ]
       ],
       "datasetInfos": [],
       "dbfsResultPath": null,
       "isJsonSchema": true,
       "metadata": {},
       "overflow": false,
       "plotOptions": {
        "customPlotOptions": {},
        "displayType": "table",
        "pivotAggregation": null,
        "pivotColumns": null,
        "xColumns": null,
        "yColumns": null
       },
       "removedWidgets": [],
       "schema": [
        {
         "metadata": "{}",
         "name": "IDFabricante",
         "type": "\"integer\""
        },
        {
         "metadata": "{}",
         "name": "Fabricante",
         "type": "\"string\""
        },
        {
         "metadata": "{}",
         "name": "sk_fabricante",
         "type": "\"long\""
        },
        {
         "metadata": "{}",
         "name": "data_atualizacao",
         "type": "\"timestamp\""
        }
       ],
       "type": "table"
      }
     },
     "output_type": "display_data"
    }
   ],
   "source": [
    "# Acessar a versão 5 da tabela\n",
    "df = spark.read.format(\"delta\").option(\"versionAsOf\", 9).load(\"/Volumes/workspace/lhdw/gold/vendas_delta/dim_fabricante\")\n",
    "display(df)\n"
   ]
  },
  {
   "cell_type": "code",
   "execution_count": 0,
   "metadata": {
    "application/vnd.databricks.v1+cell": {
     "cellMetadata": {
      "byteLimit": 2048000,
      "rowLimit": 10000
     },
     "inputWidgets": {},
     "nuid": "e662a897-9466-4bc6-9482-cd9fdabde9a4",
     "showTitle": false,
     "tableResultSettingsMap": {},
     "title": ""
    }
   },
   "outputs": [
    {
     "output_type": "display_data",
     "data": {
      "text/html": [
       "<style scoped>\n",
       "  .table-result-container {\n",
       "    max-height: 300px;\n",
       "    overflow: auto;\n",
       "  }\n",
       "  table, th, td {\n",
       "    border: 1px solid black;\n",
       "    border-collapse: collapse;\n",
       "  }\n",
       "  th, td {\n",
       "    padding: 5px;\n",
       "  }\n",
       "  th {\n",
       "    text-align: left;\n",
       "  }\n",
       "</style><div class='table-result-container'><table class='table-result'><thead style='background-color: white'><tr><th>IDFabricante</th><th>Fabricante</th><th>sk_fabricante</th><th>data_atualizacao</th></tr></thead><tbody><tr><td>7</td><td>VanArsdel</td><td>1</td><td>null</td></tr></tbody></table></div>"
      ]
     },
     "metadata": {
      "application/vnd.databricks.v1+output": {
       "addedWidgets": {},
       "aggData": [],
       "aggError": "",
       "aggOverflow": false,
       "aggSchema": [],
       "aggSeriesLimitReached": false,
       "aggType": "",
       "arguments": {},
       "columnCustomDisplayInfos": {},
       "data": [
        [
         7,
         "VanArsdel",
         1,
         null
        ]
       ],
       "datasetInfos": [],
       "dbfsResultPath": null,
       "isJsonSchema": true,
       "metadata": {},
       "overflow": false,
       "plotOptions": {
        "customPlotOptions": {},
        "displayType": "table",
        "pivotAggregation": null,
        "pivotColumns": null,
        "xColumns": null,
        "yColumns": null
       },
       "removedWidgets": [],
       "schema": [
        {
         "metadata": "{}",
         "name": "IDFabricante",
         "type": "\"integer\""
        },
        {
         "metadata": "{}",
         "name": "Fabricante",
         "type": "\"string\""
        },
        {
         "metadata": "{}",
         "name": "sk_fabricante",
         "type": "\"long\""
        },
        {
         "metadata": "{}",
         "name": "data_atualizacao",
         "type": "\"timestamp\""
        }
       ],
       "type": "table"
      }
     },
     "output_type": "display_data"
    }
   ],
   "source": [
    "# Restaurando versão antiga da tabela\n",
    "from delta.tables import DeltaTable\n",
    "\n",
    "# Inicializar DeltaTable\n",
    "delta_table_path = \"dbfs:/Volumes/workspace/lhdw/gold/vendas_delta/dim_fabricante\"\n",
    "delta_table = DeltaTable.forPath(spark, delta_table_path)\n",
    "\n",
    "# Restaurar a tabela para a versão \n",
    "delta_table.restoreToVersion(5)\n",
    "\n",
    "# Apresentar a tabela\n",
    "display(spark.read.format(\"delta\").load(delta_table_path))\n"
   ]
  },
  {
   "cell_type": "code",
   "execution_count": 0,
   "metadata": {
    "application/vnd.databricks.v1+cell": {
     "cellMetadata": {
      "byteLimit": 2048000,
      "rowLimit": 10000
     },
     "inputWidgets": {},
     "nuid": "34a12ace-86d2-4d3b-ade5-0cc32eea702b",
     "showTitle": false,
     "tableResultSettingsMap": {},
     "title": ""
    }
   },
   "outputs": [],
   "source": [
    "# Reparticionando a tabela fato_vendas por ano e mês e salvando o resultado\n",
    "# Agrupando os arquivos pequenos em arquivos maiores\n",
    "df = spark.read.format(\"delta\").load(\"/Volumes/workspace/lhdw/gold/vendas_delta/fato_vendas\")\n",
    "df.repartition(2).write.format(\"delta\").mode(\"overwrite\").save(\"/Volumes/workspace/lhdw/gold/vendas_delta/fato_vendas_repart\")"
   ]
  },
  {
   "cell_type": "code",
   "execution_count": 0,
   "metadata": {
    "application/vnd.databricks.v1+cell": {
     "cellMetadata": {
      "byteLimit": 2048000,
      "rowLimit": 10000
     },
     "inputWidgets": {},
     "nuid": "88a8cb60-f71f-479c-95db-bec31dcb5ad4",
     "showTitle": false,
     "tableResultSettingsMap": {},
     "title": ""
    }
   },
   "outputs": [
    {
     "output_type": "stream",
     "name": "stdout",
     "output_type": "stream",
     "text": [
      "Número de partições iniciais (aproximado): 1\nNúmero de partições após reparticionamento (aproximado): 2\n"
     ]
    }
   ],
   "source": [
    "# Lê a tabela Delta\n",
    "df_geo = spark.read.format(\"delta\").load(\"/Volumes/workspace/lhdw/gold/vendas_delta/dim_geografia\")\n",
    "\n",
    "# Estima o número de partições iniciais pelo número de arquivos\n",
    "num_particoes_iniciais = len(set(df_geo.inputFiles()))\n",
    "print(f\"Número de partições iniciais (aproximado): {num_particoes_iniciais}\")\n",
    "\n",
    "# Reparticiona para 2 partições\n",
    "df_reparticionado = df_geo.repartition(2)\n",
    "\n",
    "# Persiste os dados reparticionados em uma nova tabela Delta\n",
    "df_reparticionado.write.format(\"delta\")\\\n",
    "    .option(\"overwriteSchema\", \"true\")\\\n",
    "    .mode(\"overwrite\")\\\n",
    "    .save(\"/Volumes/workspace/lhdw/gold/vendas_delta/geo_repart\")\n",
    "\n",
    "# Lê novamente e estima o número de partições após o reparticionamento\n",
    "df_check = spark.read.format(\"delta\").load(\"/Volumes/workspace/lhdw/gold/vendas_delta/geo_repart\")\n",
    "num_particoes_finais = len(set(df_check.inputFiles()))\n",
    "print(f\"Número de partições após reparticionamento (aproximado): {num_particoes_finais}\")"
   ]
  },
  {
   "cell_type": "code",
   "execution_count": 0,
   "metadata": {
    "application/vnd.databricks.v1+cell": {
     "cellMetadata": {
      "byteLimit": 2048000,
      "rowLimit": 10000
     },
     "inputWidgets": {},
     "nuid": "48b560b3-8201-4158-a0bf-7214ab45a467",
     "showTitle": false,
     "tableResultSettingsMap": {},
     "title": ""
    }
   },
   "outputs": [
    {
     "output_type": "stream",
     "name": "stdout",
     "output_type": "stream",
     "text": [
      "Número de partições após reparticionar pela coluna Regiao (aproximado): 3\n"
     ]
    }
   ],
   "source": [
    "# Reparticionando com coluna especifica\n",
    "# Lê a tabela Delta\n",
    "df_geo = spark.read.format(\"delta\").load(\"/Volumes/workspace/lhdw/gold/vendas_delta/dim_geografia\")\n",
    "\n",
    "# Reparticiona os dados pela coluna \"Regiao\"\n",
    "df_reparticionado_geo = df_geo.repartition(10, \"Regiao\")\n",
    "\n",
    "# Persiste os dados em uma tabela Delta particionada por \"Regiao\"\n",
    "df_reparticionado_geo.write.partitionBy(\"Regiao\").format(\"delta\").option(\"overwriteSchema\", \"true\").mode(\"overwrite\").save(\"/Volumes/workspace/lhdw/gold/vendas_delta/geo_regiao\")\n",
    "\n",
    "# Lê a tabela Delta reparticionada\n",
    "df_check = spark.read.format(\"delta\").load(\"/Volumes/workspace/lhdw/gold/vendas_delta/geo_regiao\")\n",
    "\n",
    "# Estima o número de partições pelo número de arquivos únicos\n",
    "num_particoes = len(set(df_check.inputFiles()))\n",
    "print(f\"Número de partições após reparticionar pela coluna Regiao (aproximado): {num_particoes}\")"
   ]
  },
  {
   "cell_type": "code",
   "execution_count": 0,
   "metadata": {
    "application/vnd.databricks.v1+cell": {
     "cellMetadata": {
      "byteLimit": 2048000,
      "rowLimit": 10000
     },
     "inputWidgets": {},
     "nuid": "eb6a204b-2a31-41d3-91b7-acd4973034de",
     "showTitle": false,
     "tableResultSettingsMap": {},
     "title": ""
    }
   },
   "outputs": [
    {
     "output_type": "stream",
     "name": "stdout",
     "output_type": "stream",
     "text": [
      "Número de partições após coalesce (aproximado): 5\n"
     ]
    }
   ],
   "source": [
    "# Usando coalesce para reduzir as partições para 5\n",
    "df_coalesced = df_geo.repartition(100).coalesce(5)\n",
    "\n",
    "# Persiste os dados em uma tabela Delta\n",
    "df_coalesced.write.format(\"delta\").option(\"overwriteSchema\", \"true\").mode(\"overwrite\").save(\"/Volumes/workspace/lhdw/gold/vendas_delta/geo_coalesce\")\n",
    "\n",
    "# Lê a tabela Delta reparticionada\n",
    "df_check = spark.read.format(\"delta\").load(\"/Volumes/workspace/lhdw/gold/vendas_delta/geo_coalesce\")\n",
    "\n",
    "# Estima o número de partições pelo número de arquivos únicos\n",
    "num_particoes = len(set(df_check.inputFiles()))\n",
    "print(f\"Número de partições após coalesce (aproximado): {num_particoes}\")"
   ]
  },
  {
   "cell_type": "markdown",
   "metadata": {
    "application/vnd.databricks.v1+cell": {
     "cellMetadata": {},
     "inputWidgets": {},
     "nuid": "6dfe733c-f54b-4872-9a16-612cbfa2b585",
     "showTitle": false,
     "tableResultSettingsMap": {},
     "title": ""
    }
   },
   "source": [
    "###Evidências de repartição/Compactação"
   ]
  },
  {
   "cell_type": "code",
   "execution_count": 0,
   "metadata": {
    "application/vnd.databricks.v1+cell": {
     "cellMetadata": {
      "byteLimit": 2048000,
      "rowLimit": 10000
     },
     "inputWidgets": {},
     "nuid": "0ac56f94-0395-4769-8cf5-68ff4c238ae0",
     "showTitle": false,
     "tableResultSettingsMap": {},
     "title": ""
    }
   },
   "outputs": [
    {
     "output_type": "display_data",
     "data": {
      "text/html": [
       "<style scoped>\n",
       "  .table-result-container {\n",
       "    max-height: 300px;\n",
       "    overflow: auto;\n",
       "  }\n",
       "  table, th, td {\n",
       "    border: 1px solid black;\n",
       "    border-collapse: collapse;\n",
       "  }\n",
       "  th, td {\n",
       "    padding: 5px;\n",
       "  }\n",
       "  th {\n",
       "    text-align: left;\n",
       "  }\n",
       "</style><div class='table-result-container'><table class='table-result'><thead style='background-color: white'><tr><th>path</th><th>name</th><th>size</th><th>modificationTime</th></tr></thead><tbody><tr><td>dbfs:/Volumes/workspace/lhdw/gold/vendas_delta/dim_categoria/</td><td>dim_categoria/</td><td>0</td><td>1756337837570</td></tr><tr><td>dbfs:/Volumes/workspace/lhdw/gold/vendas_delta/dim_cliente/</td><td>dim_cliente/</td><td>0</td><td>1756337837571</td></tr><tr><td>dbfs:/Volumes/workspace/lhdw/gold/vendas_delta/dim_fabricante/</td><td>dim_fabricante/</td><td>0</td><td>1756337837571</td></tr><tr><td>dbfs:/Volumes/workspace/lhdw/gold/vendas_delta/dim_geografia/</td><td>dim_geografia/</td><td>0</td><td>1756337837571</td></tr><tr><td>dbfs:/Volumes/workspace/lhdw/gold/vendas_delta/dim_produto/</td><td>dim_produto/</td><td>0</td><td>1756337837571</td></tr><tr><td>dbfs:/Volumes/workspace/lhdw/gold/vendas_delta/dim_segmento/</td><td>dim_segmento/</td><td>0</td><td>1756337837571</td></tr><tr><td>dbfs:/Volumes/workspace/lhdw/gold/vendas_delta/fato_vendas/</td><td>fato_vendas/</td><td>0</td><td>1756337837571</td></tr><tr><td>dbfs:/Volumes/workspace/lhdw/gold/vendas_delta/fato_vendas_repart/</td><td>fato_vendas_repart/</td><td>0</td><td>1756337837571</td></tr><tr><td>dbfs:/Volumes/workspace/lhdw/gold/vendas_delta/geo_coalesce/</td><td>geo_coalesce/</td><td>0</td><td>1756337837571</td></tr><tr><td>dbfs:/Volumes/workspace/lhdw/gold/vendas_delta/geo_coaslece/</td><td>geo_coaslece/</td><td>0</td><td>1756337837571</td></tr><tr><td>dbfs:/Volumes/workspace/lhdw/gold/vendas_delta/geo_regiao/</td><td>geo_regiao/</td><td>0</td><td>1756337837571</td></tr><tr><td>dbfs:/Volumes/workspace/lhdw/gold/vendas_delta/geo_repart/</td><td>geo_repart/</td><td>0</td><td>1756337837571</td></tr></tbody></table></div>"
      ]
     },
     "metadata": {
      "application/vnd.databricks.v1+output": {
       "addedWidgets": {},
       "aggData": [],
       "aggError": "",
       "aggOverflow": false,
       "aggSchema": [],
       "aggSeriesLimitReached": false,
       "aggType": "",
       "arguments": {},
       "columnCustomDisplayInfos": {},
       "data": [
        [
         "dbfs:/Volumes/workspace/lhdw/gold/vendas_delta/dim_categoria/",
         "dim_categoria/",
         0,
         1756337837570
        ],
        [
         "dbfs:/Volumes/workspace/lhdw/gold/vendas_delta/dim_cliente/",
         "dim_cliente/",
         0,
         1756337837571
        ],
        [
         "dbfs:/Volumes/workspace/lhdw/gold/vendas_delta/dim_fabricante/",
         "dim_fabricante/",
         0,
         1756337837571
        ],
        [
         "dbfs:/Volumes/workspace/lhdw/gold/vendas_delta/dim_geografia/",
         "dim_geografia/",
         0,
         1756337837571
        ],
        [
         "dbfs:/Volumes/workspace/lhdw/gold/vendas_delta/dim_produto/",
         "dim_produto/",
         0,
         1756337837571
        ],
        [
         "dbfs:/Volumes/workspace/lhdw/gold/vendas_delta/dim_segmento/",
         "dim_segmento/",
         0,
         1756337837571
        ],
        [
         "dbfs:/Volumes/workspace/lhdw/gold/vendas_delta/fato_vendas/",
         "fato_vendas/",
         0,
         1756337837571
        ],
        [
         "dbfs:/Volumes/workspace/lhdw/gold/vendas_delta/fato_vendas_repart/",
         "fato_vendas_repart/",
         0,
         1756337837571
        ],
        [
         "dbfs:/Volumes/workspace/lhdw/gold/vendas_delta/geo_coalesce/",
         "geo_coalesce/",
         0,
         1756337837571
        ],
        [
         "dbfs:/Volumes/workspace/lhdw/gold/vendas_delta/geo_coaslece/",
         "geo_coaslece/",
         0,
         1756337837571
        ],
        [
         "dbfs:/Volumes/workspace/lhdw/gold/vendas_delta/geo_regiao/",
         "geo_regiao/",
         0,
         1756337837571
        ],
        [
         "dbfs:/Volumes/workspace/lhdw/gold/vendas_delta/geo_repart/",
         "geo_repart/",
         0,
         1756337837571
        ]
       ],
       "datasetInfos": [],
       "dbfsResultPath": null,
       "isJsonSchema": true,
       "metadata": {},
       "overflow": false,
       "plotOptions": {
        "customPlotOptions": {},
        "displayType": "table",
        "pivotAggregation": null,
        "pivotColumns": null,
        "xColumns": null,
        "yColumns": null
       },
       "removedWidgets": [],
       "schema": [
        {
         "metadata": "{}",
         "name": "path",
         "type": "\"string\""
        },
        {
         "metadata": "{}",
         "name": "name",
         "type": "\"string\""
        },
        {
         "metadata": "{}",
         "name": "size",
         "type": "\"long\""
        },
        {
         "metadata": "{}",
         "name": "modificationTime",
         "type": "\"long\""
        }
       ],
       "type": "table"
      }
     },
     "output_type": "display_data"
    }
   ],
   "source": [
    "%fs ls /Volumes/workspace/lhdw/gold/vendas_delta/"
   ]
  },
  {
   "cell_type": "code",
   "execution_count": 0,
   "metadata": {
    "application/vnd.databricks.v1+cell": {
     "cellMetadata": {
      "byteLimit": 2048000,
      "rowLimit": 10000
     },
     "inputWidgets": {},
     "nuid": "cc41ff1d-cfca-40d7-b97a-919e8f507239",
     "showTitle": false,
     "tableResultSettingsMap": {},
     "title": ""
    }
   },
   "outputs": [
    {
     "output_type": "display_data",
     "data": {
      "text/html": [
       "<style scoped>\n",
       "  .table-result-container {\n",
       "    max-height: 300px;\n",
       "    overflow: auto;\n",
       "  }\n",
       "  table, th, td {\n",
       "    border: 1px solid black;\n",
       "    border-collapse: collapse;\n",
       "  }\n",
       "  th, td {\n",
       "    padding: 5px;\n",
       "  }\n",
       "  th {\n",
       "    text-align: left;\n",
       "  }\n",
       "</style><div class='table-result-container'><table class='table-result'><thead style='background-color: white'><tr><th>path</th><th>name</th><th>size</th><th>modificationTime</th></tr></thead><tbody><tr><td>dbfs:/Volumes/workspace/lhdw/gold/vendas_delta/fato_vendas_repart/_delta_log/</td><td>_delta_log/</td><td>0</td><td>1756337858657</td></tr><tr><td>dbfs:/Volumes/workspace/lhdw/gold/vendas_delta/fato_vendas_repart/part-00000-d4b81e20-6c69-4f3e-af41-103ee05d14f9.c000.snappy.parquet</td><td>part-00000-d4b81e20-6c69-4f3e-af41-103ee05d14f9.c000.snappy.parquet</td><td>382178</td><td>1756337399000</td></tr><tr><td>dbfs:/Volumes/workspace/lhdw/gold/vendas_delta/fato_vendas_repart/part-00001-d848caa6-c872-428f-ad48-a34c19725bef.c000.snappy.parquet</td><td>part-00001-d848caa6-c872-428f-ad48-a34c19725bef.c000.snappy.parquet</td><td>382632</td><td>1756337399000</td></tr></tbody></table></div>"
      ]
     },
     "metadata": {
      "application/vnd.databricks.v1+output": {
       "addedWidgets": {},
       "aggData": [],
       "aggError": "",
       "aggOverflow": false,
       "aggSchema": [],
       "aggSeriesLimitReached": false,
       "aggType": "",
       "arguments": {},
       "columnCustomDisplayInfos": {},
       "data": [
        [
         "dbfs:/Volumes/workspace/lhdw/gold/vendas_delta/fato_vendas_repart/_delta_log/",
         "_delta_log/",
         0,
         1756337858657
        ],
        [
         "dbfs:/Volumes/workspace/lhdw/gold/vendas_delta/fato_vendas_repart/part-00000-d4b81e20-6c69-4f3e-af41-103ee05d14f9.c000.snappy.parquet",
         "part-00000-d4b81e20-6c69-4f3e-af41-103ee05d14f9.c000.snappy.parquet",
         382178,
         1756337399000
        ],
        [
         "dbfs:/Volumes/workspace/lhdw/gold/vendas_delta/fato_vendas_repart/part-00001-d848caa6-c872-428f-ad48-a34c19725bef.c000.snappy.parquet",
         "part-00001-d848caa6-c872-428f-ad48-a34c19725bef.c000.snappy.parquet",
         382632,
         1756337399000
        ]
       ],
       "datasetInfos": [],
       "dbfsResultPath": null,
       "isJsonSchema": true,
       "metadata": {},
       "overflow": false,
       "plotOptions": {
        "customPlotOptions": {},
        "displayType": "table",
        "pivotAggregation": null,
        "pivotColumns": null,
        "xColumns": null,
        "yColumns": null
       },
       "removedWidgets": [],
       "schema": [
        {
         "metadata": "{}",
         "name": "path",
         "type": "\"string\""
        },
        {
         "metadata": "{}",
         "name": "name",
         "type": "\"string\""
        },
        {
         "metadata": "{}",
         "name": "size",
         "type": "\"long\""
        },
        {
         "metadata": "{}",
         "name": "modificationTime",
         "type": "\"long\""
        }
       ],
       "type": "table"
      }
     },
     "output_type": "display_data"
    }
   ],
   "source": [
    "%fs ls /Volumes/workspace/lhdw/gold/vendas_delta/fato_vendas_repart/"
   ]
  },
  {
   "cell_type": "code",
   "execution_count": 0,
   "metadata": {
    "application/vnd.databricks.v1+cell": {
     "cellMetadata": {
      "byteLimit": 2048000,
      "rowLimit": 10000
     },
     "inputWidgets": {},
     "nuid": "6bc85037-c1ff-4ff1-a7d6-c5d822fbfddf",
     "showTitle": false,
     "tableResultSettingsMap": {},
     "title": ""
    }
   },
   "outputs": [
    {
     "output_type": "display_data",
     "data": {
      "text/html": [
       "<style scoped>\n",
       "  .table-result-container {\n",
       "    max-height: 300px;\n",
       "    overflow: auto;\n",
       "  }\n",
       "  table, th, td {\n",
       "    border: 1px solid black;\n",
       "    border-collapse: collapse;\n",
       "  }\n",
       "  th, td {\n",
       "    padding: 5px;\n",
       "  }\n",
       "  th {\n",
       "    text-align: left;\n",
       "  }\n",
       "</style><div class='table-result-container'><table class='table-result'><thead style='background-color: white'><tr><th>path</th><th>name</th><th>size</th><th>modificationTime</th></tr></thead><tbody><tr><td>dbfs:/Volumes/workspace/lhdw/gold/vendas_delta/geo_repart/_delta_log/</td><td>_delta_log/</td><td>0</td><td>1756337876886</td></tr><tr><td>dbfs:/Volumes/workspace/lhdw/gold/vendas_delta/geo_repart/part-00000-ab25a141-a7d3-4276-8d42-b7cd3d3cb6cd.c000.snappy.parquet</td><td>part-00000-ab25a141-a7d3-4276-8d42-b7cd3d3cb6cd.c000.snappy.parquet</td><td>176729</td><td>1756337546000</td></tr><tr><td>dbfs:/Volumes/workspace/lhdw/gold/vendas_delta/geo_repart/part-00001-37b890c4-4a04-499c-8c98-da5a43b63b2e.c000.snappy.parquet</td><td>part-00001-37b890c4-4a04-499c-8c98-da5a43b63b2e.c000.snappy.parquet</td><td>177228</td><td>1756337546000</td></tr></tbody></table></div>"
      ]
     },
     "metadata": {
      "application/vnd.databricks.v1+output": {
       "addedWidgets": {},
       "aggData": [],
       "aggError": "",
       "aggOverflow": false,
       "aggSchema": [],
       "aggSeriesLimitReached": false,
       "aggType": "",
       "arguments": {},
       "columnCustomDisplayInfos": {},
       "data": [
        [
         "dbfs:/Volumes/workspace/lhdw/gold/vendas_delta/geo_repart/_delta_log/",
         "_delta_log/",
         0,
         1756337876886
        ],
        [
         "dbfs:/Volumes/workspace/lhdw/gold/vendas_delta/geo_repart/part-00000-ab25a141-a7d3-4276-8d42-b7cd3d3cb6cd.c000.snappy.parquet",
         "part-00000-ab25a141-a7d3-4276-8d42-b7cd3d3cb6cd.c000.snappy.parquet",
         176729,
         1756337546000
        ],
        [
         "dbfs:/Volumes/workspace/lhdw/gold/vendas_delta/geo_repart/part-00001-37b890c4-4a04-499c-8c98-da5a43b63b2e.c000.snappy.parquet",
         "part-00001-37b890c4-4a04-499c-8c98-da5a43b63b2e.c000.snappy.parquet",
         177228,
         1756337546000
        ]
       ],
       "datasetInfos": [],
       "dbfsResultPath": null,
       "isJsonSchema": true,
       "metadata": {},
       "overflow": false,
       "plotOptions": {
        "customPlotOptions": {},
        "displayType": "table",
        "pivotAggregation": null,
        "pivotColumns": null,
        "xColumns": null,
        "yColumns": null
       },
       "removedWidgets": [],
       "schema": [
        {
         "metadata": "{}",
         "name": "path",
         "type": "\"string\""
        },
        {
         "metadata": "{}",
         "name": "name",
         "type": "\"string\""
        },
        {
         "metadata": "{}",
         "name": "size",
         "type": "\"long\""
        },
        {
         "metadata": "{}",
         "name": "modificationTime",
         "type": "\"long\""
        }
       ],
       "type": "table"
      }
     },
     "output_type": "display_data"
    }
   ],
   "source": [
    "%fs ls /Volumes/workspace/lhdw/gold/vendas_delta/geo_repart/"
   ]
  },
  {
   "cell_type": "code",
   "execution_count": 0,
   "metadata": {
    "application/vnd.databricks.v1+cell": {
     "cellMetadata": {
      "byteLimit": 2048000,
      "rowLimit": 10000
     },
     "inputWidgets": {},
     "nuid": "9fd64cad-c92e-4410-8155-5d6a16188143",
     "showTitle": false,
     "tableResultSettingsMap": {},
     "title": ""
    }
   },
   "outputs": [
    {
     "output_type": "display_data",
     "data": {
      "text/html": [
       "<style scoped>\n",
       "  .table-result-container {\n",
       "    max-height: 300px;\n",
       "    overflow: auto;\n",
       "  }\n",
       "  table, th, td {\n",
       "    border: 1px solid black;\n",
       "    border-collapse: collapse;\n",
       "  }\n",
       "  th, td {\n",
       "    padding: 5px;\n",
       "  }\n",
       "  th {\n",
       "    text-align: left;\n",
       "  }\n",
       "</style><div class='table-result-container'><table class='table-result'><thead style='background-color: white'><tr><th>path</th><th>name</th><th>size</th><th>modificationTime</th></tr></thead><tbody><tr><td>dbfs:/Volumes/workspace/lhdw/gold/vendas_delta/geo_regiao/Regiao=Central/</td><td>Regiao=Central/</td><td>0</td><td>1756337888605</td></tr><tr><td>dbfs:/Volumes/workspace/lhdw/gold/vendas_delta/geo_regiao/Regiao=East/</td><td>Regiao=East/</td><td>0</td><td>1756337888605</td></tr><tr><td>dbfs:/Volumes/workspace/lhdw/gold/vendas_delta/geo_regiao/Regiao=West/</td><td>Regiao=West/</td><td>0</td><td>1756337888605</td></tr><tr><td>dbfs:/Volumes/workspace/lhdw/gold/vendas_delta/geo_regiao/_delta_log/</td><td>_delta_log/</td><td>0</td><td>1756337888605</td></tr></tbody></table></div>"
      ]
     },
     "metadata": {
      "application/vnd.databricks.v1+output": {
       "addedWidgets": {},
       "aggData": [],
       "aggError": "",
       "aggOverflow": false,
       "aggSchema": [],
       "aggSeriesLimitReached": false,
       "aggType": "",
       "arguments": {},
       "columnCustomDisplayInfos": {},
       "data": [
        [
         "dbfs:/Volumes/workspace/lhdw/gold/vendas_delta/geo_regiao/Regiao=Central/",
         "Regiao=Central/",
         0,
         1756337888605
        ],
        [
         "dbfs:/Volumes/workspace/lhdw/gold/vendas_delta/geo_regiao/Regiao=East/",
         "Regiao=East/",
         0,
         1756337888605
        ],
        [
         "dbfs:/Volumes/workspace/lhdw/gold/vendas_delta/geo_regiao/Regiao=West/",
         "Regiao=West/",
         0,
         1756337888605
        ],
        [
         "dbfs:/Volumes/workspace/lhdw/gold/vendas_delta/geo_regiao/_delta_log/",
         "_delta_log/",
         0,
         1756337888605
        ]
       ],
       "datasetInfos": [],
       "dbfsResultPath": null,
       "isJsonSchema": true,
       "metadata": {},
       "overflow": false,
       "plotOptions": {
        "customPlotOptions": {},
        "displayType": "table",
        "pivotAggregation": null,
        "pivotColumns": null,
        "xColumns": null,
        "yColumns": null
       },
       "removedWidgets": [],
       "schema": [
        {
         "metadata": "{}",
         "name": "path",
         "type": "\"string\""
        },
        {
         "metadata": "{}",
         "name": "name",
         "type": "\"string\""
        },
        {
         "metadata": "{}",
         "name": "size",
         "type": "\"long\""
        },
        {
         "metadata": "{}",
         "name": "modificationTime",
         "type": "\"long\""
        }
       ],
       "type": "table"
      }
     },
     "output_type": "display_data"
    }
   ],
   "source": [
    "%fs ls /Volumes/workspace//lhdw/gold/vendas_delta/geo_regiao/"
   ]
  },
  {
   "cell_type": "code",
   "execution_count": 0,
   "metadata": {
    "application/vnd.databricks.v1+cell": {
     "cellMetadata": {
      "byteLimit": 2048000,
      "rowLimit": 10000
     },
     "inputWidgets": {},
     "nuid": "6e5caa97-6c8a-4517-9f25-dd6f1c256bc8",
     "showTitle": false,
     "tableResultSettingsMap": {},
     "title": ""
    }
   },
   "outputs": [
    {
     "output_type": "display_data",
     "data": {
      "text/html": [
       "<style scoped>\n",
       "  .table-result-container {\n",
       "    max-height: 300px;\n",
       "    overflow: auto;\n",
       "  }\n",
       "  table, th, td {\n",
       "    border: 1px solid black;\n",
       "    border-collapse: collapse;\n",
       "  }\n",
       "  th, td {\n",
       "    padding: 5px;\n",
       "  }\n",
       "  th {\n",
       "    text-align: left;\n",
       "  }\n",
       "</style><div class='table-result-container'><table class='table-result'><thead style='background-color: white'><tr><th>path</th><th>name</th><th>size</th><th>modificationTime</th></tr></thead><tbody><tr><td>dbfs:/Volumes/workspace/lhdw/gold/vendas_delta/geo_coalesce/_delta_log/</td><td>_delta_log/</td><td>0</td><td>1756337907056</td></tr><tr><td>dbfs:/Volumes/workspace/lhdw/gold/vendas_delta/geo_coalesce/part-00000-9620897a-51b5-48ab-a0f9-34c82db5b506.c000.snappy.parquet</td><td>part-00000-9620897a-51b5-48ab-a0f9-34c82db5b506.c000.snappy.parquet</td><td>71536</td><td>1756337811000</td></tr><tr><td>dbfs:/Volumes/workspace/lhdw/gold/vendas_delta/geo_coalesce/part-00000-b3a073a6-217d-4680-b0a2-18224c846950.c000.snappy.parquet</td><td>part-00000-b3a073a6-217d-4680-b0a2-18224c846950.c000.snappy.parquet</td><td>71536</td><td>1756337752000</td></tr><tr><td>dbfs:/Volumes/workspace/lhdw/gold/vendas_delta/geo_coalesce/part-00001-12f79acb-3b5e-4f4a-ac96-38a428387317.c000.snappy.parquet</td><td>part-00001-12f79acb-3b5e-4f4a-ac96-38a428387317.c000.snappy.parquet</td><td>72334</td><td>1756337811000</td></tr><tr><td>dbfs:/Volumes/workspace/lhdw/gold/vendas_delta/geo_coalesce/part-00001-d685828f-47d3-40d8-a65c-8c4e8b12a6ff.c000.snappy.parquet</td><td>part-00001-d685828f-47d3-40d8-a65c-8c4e8b12a6ff.c000.snappy.parquet</td><td>72334</td><td>1756337752000</td></tr><tr><td>dbfs:/Volumes/workspace/lhdw/gold/vendas_delta/geo_coalesce/part-00002-2493140a-128a-4267-97dc-e6a2fbabf801.c000.snappy.parquet</td><td>part-00002-2493140a-128a-4267-97dc-e6a2fbabf801.c000.snappy.parquet</td><td>72920</td><td>1756337752000</td></tr><tr><td>dbfs:/Volumes/workspace/lhdw/gold/vendas_delta/geo_coalesce/part-00002-576a8ba6-ce60-45e3-8911-eed324452ec1.c000.snappy.parquet</td><td>part-00002-576a8ba6-ce60-45e3-8911-eed324452ec1.c000.snappy.parquet</td><td>72920</td><td>1756337811000</td></tr><tr><td>dbfs:/Volumes/workspace/lhdw/gold/vendas_delta/geo_coalesce/part-00003-4e394508-9242-41b8-a2a4-2aeb79516c5b.c000.snappy.parquet</td><td>part-00003-4e394508-9242-41b8-a2a4-2aeb79516c5b.c000.snappy.parquet</td><td>71617</td><td>1756337752000</td></tr><tr><td>dbfs:/Volumes/workspace/lhdw/gold/vendas_delta/geo_coalesce/part-00003-d75a324a-5f6d-4e62-a519-3f2fce95b59b.c000.snappy.parquet</td><td>part-00003-d75a324a-5f6d-4e62-a519-3f2fce95b59b.c000.snappy.parquet</td><td>71617</td><td>1756337811000</td></tr><tr><td>dbfs:/Volumes/workspace/lhdw/gold/vendas_delta/geo_coalesce/part-00004-dfee49d8-3d27-447c-9703-8c9baed775e5.c000.snappy.parquet</td><td>part-00004-dfee49d8-3d27-447c-9703-8c9baed775e5.c000.snappy.parquet</td><td>72127</td><td>1756337811000</td></tr><tr><td>dbfs:/Volumes/workspace/lhdw/gold/vendas_delta/geo_coalesce/part-00004-f0782fca-0c27-4455-ab3f-147c7fca2911.c000.snappy.parquet</td><td>part-00004-f0782fca-0c27-4455-ab3f-147c7fca2911.c000.snappy.parquet</td><td>72127</td><td>1756337752000</td></tr></tbody></table></div>"
      ]
     },
     "metadata": {
      "application/vnd.databricks.v1+output": {
       "addedWidgets": {},
       "aggData": [],
       "aggError": "",
       "aggOverflow": false,
       "aggSchema": [],
       "aggSeriesLimitReached": false,
       "aggType": "",
       "arguments": {},
       "columnCustomDisplayInfos": {},
       "data": [
        [
         "dbfs:/Volumes/workspace/lhdw/gold/vendas_delta/geo_coalesce/_delta_log/",
         "_delta_log/",
         0,
         1756337907056
        ],
        [
         "dbfs:/Volumes/workspace/lhdw/gold/vendas_delta/geo_coalesce/part-00000-9620897a-51b5-48ab-a0f9-34c82db5b506.c000.snappy.parquet",
         "part-00000-9620897a-51b5-48ab-a0f9-34c82db5b506.c000.snappy.parquet",
         71536,
         1756337811000
        ],
        [
         "dbfs:/Volumes/workspace/lhdw/gold/vendas_delta/geo_coalesce/part-00000-b3a073a6-217d-4680-b0a2-18224c846950.c000.snappy.parquet",
         "part-00000-b3a073a6-217d-4680-b0a2-18224c846950.c000.snappy.parquet",
         71536,
         1756337752000
        ],
        [
         "dbfs:/Volumes/workspace/lhdw/gold/vendas_delta/geo_coalesce/part-00001-12f79acb-3b5e-4f4a-ac96-38a428387317.c000.snappy.parquet",
         "part-00001-12f79acb-3b5e-4f4a-ac96-38a428387317.c000.snappy.parquet",
         72334,
         1756337811000
        ],
        [
         "dbfs:/Volumes/workspace/lhdw/gold/vendas_delta/geo_coalesce/part-00001-d685828f-47d3-40d8-a65c-8c4e8b12a6ff.c000.snappy.parquet",
         "part-00001-d685828f-47d3-40d8-a65c-8c4e8b12a6ff.c000.snappy.parquet",
         72334,
         1756337752000
        ],
        [
         "dbfs:/Volumes/workspace/lhdw/gold/vendas_delta/geo_coalesce/part-00002-2493140a-128a-4267-97dc-e6a2fbabf801.c000.snappy.parquet",
         "part-00002-2493140a-128a-4267-97dc-e6a2fbabf801.c000.snappy.parquet",
         72920,
         1756337752000
        ],
        [
         "dbfs:/Volumes/workspace/lhdw/gold/vendas_delta/geo_coalesce/part-00002-576a8ba6-ce60-45e3-8911-eed324452ec1.c000.snappy.parquet",
         "part-00002-576a8ba6-ce60-45e3-8911-eed324452ec1.c000.snappy.parquet",
         72920,
         1756337811000
        ],
        [
         "dbfs:/Volumes/workspace/lhdw/gold/vendas_delta/geo_coalesce/part-00003-4e394508-9242-41b8-a2a4-2aeb79516c5b.c000.snappy.parquet",
         "part-00003-4e394508-9242-41b8-a2a4-2aeb79516c5b.c000.snappy.parquet",
         71617,
         1756337752000
        ],
        [
         "dbfs:/Volumes/workspace/lhdw/gold/vendas_delta/geo_coalesce/part-00003-d75a324a-5f6d-4e62-a519-3f2fce95b59b.c000.snappy.parquet",
         "part-00003-d75a324a-5f6d-4e62-a519-3f2fce95b59b.c000.snappy.parquet",
         71617,
         1756337811000
        ],
        [
         "dbfs:/Volumes/workspace/lhdw/gold/vendas_delta/geo_coalesce/part-00004-dfee49d8-3d27-447c-9703-8c9baed775e5.c000.snappy.parquet",
         "part-00004-dfee49d8-3d27-447c-9703-8c9baed775e5.c000.snappy.parquet",
         72127,
         1756337811000
        ],
        [
         "dbfs:/Volumes/workspace/lhdw/gold/vendas_delta/geo_coalesce/part-00004-f0782fca-0c27-4455-ab3f-147c7fca2911.c000.snappy.parquet",
         "part-00004-f0782fca-0c27-4455-ab3f-147c7fca2911.c000.snappy.parquet",
         72127,
         1756337752000
        ]
       ],
       "datasetInfos": [],
       "dbfsResultPath": null,
       "isJsonSchema": true,
       "metadata": {},
       "overflow": false,
       "plotOptions": {
        "customPlotOptions": {},
        "displayType": "table",
        "pivotAggregation": null,
        "pivotColumns": null,
        "xColumns": null,
        "yColumns": null
       },
       "removedWidgets": [],
       "schema": [
        {
         "metadata": "{}",
         "name": "path",
         "type": "\"string\""
        },
        {
         "metadata": "{}",
         "name": "name",
         "type": "\"string\""
        },
        {
         "metadata": "{}",
         "name": "size",
         "type": "\"long\""
        },
        {
         "metadata": "{}",
         "name": "modificationTime",
         "type": "\"long\""
        }
       ],
       "type": "table"
      }
     },
     "output_type": "display_data"
    }
   ],
   "source": [
    "%fs ls /Volumes/workspace/lhdw/gold/vendas_delta/geo_coalesce/"
   ]
  }
 ],
 "metadata": {
  "application/vnd.databricks.v1+notebook": {
   "computePreferences": {
    "hardware": {
     "accelerator": null,
     "gpuPoolId": null,
     "memory": null
    }
   },
   "dashboards": [],
   "environmentMetadata": null,
   "inputWidgetPreferences": null,
   "language": "python",
   "notebookMetadata": {
    "mostRecentlyExecutedCommandWithImplicitDF": {
     "commandId": 8340457653759705,
     "dataframes": [
      "_sqldf"
     ]
    },
    "pythonIndentUnit": 4
   },
   "notebookName": "9 - Manutenção de delta tables",
   "widgets": {}
  },
  "language_info": {
   "name": "python"
  }
 },
 "nbformat": 4,
 "nbformat_minor": 0
}