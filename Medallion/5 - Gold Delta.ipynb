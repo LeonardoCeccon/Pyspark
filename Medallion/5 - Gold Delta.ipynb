{
 "cells": [
  {
   "cell_type": "code",
   "execution_count": 0,
   "metadata": {
    "application/vnd.databricks.v1+cell": {
     "cellMetadata": {
      "byteLimit": 2048000,
      "rowLimit": 10000
     },
     "inputWidgets": {},
     "nuid": "a6398c78-3c20-4556-879c-1a7d68216bcd",
     "showTitle": false,
     "tableResultSettingsMap": {},
     "title": ""
    }
   },
   "outputs": [],
   "source": [
    "from pyspark.sql import SparkSession\n",
    "\n",
    "spark = SparkSession.builder \\\n",
    "    .appName(\"Carga Delta\") \\\n",
    "    .config(\"spark.sql.extensions\", \"io.delta.sql.DeltaSparkSessionExtension\") \\\n",
    "    .config(\"spark.sql.catalog.spark_catalog\", \"org.apache.spark.sql.delta.catalog.DeltaCatalog\") \\\n",
    "    .getOrCreate()"
   ]
  },
  {
   "cell_type": "code",
   "execution_count": 0,
   "metadata": {
    "application/vnd.databricks.v1+cell": {
     "cellMetadata": {
      "byteLimit": 2048000,
      "rowLimit": 10000
     },
     "inputWidgets": {},
     "nuid": "323ae8a3-5aa0-43ef-bbbf-ffcc462406f1",
     "showTitle": false,
     "tableResultSettingsMap": {},
     "title": ""
    }
   },
   "outputs": [],
   "source": [
    "# Define os caminhos de armazenamento no Data Lake\n",
    "silver_path = \"/Volumes/workspace/lhdw/silver/vendas\"\n",
    "gold_path = \"/Volumes/workspace/lhdw/gold/vendas_delta\""
   ]
  },
  {
   "cell_type": "code",
   "execution_count": 0,
   "metadata": {
    "application/vnd.databricks.v1+cell": {
     "cellMetadata": {
      "byteLimit": 2048000,
      "rowLimit": 10000
     },
     "inputWidgets": {},
     "nuid": "168a4bf3-63be-47d6-b41d-425d50a7aea3",
     "showTitle": false,
     "tableResultSettingsMap": {},
     "title": ""
    }
   },
   "outputs": [],
   "source": [
    "df_silver = spark.read.format(\"parquet\").load(silver_path)"
   ]
  },
  {
   "cell_type": "code",
   "execution_count": 0,
   "metadata": {
    "application/vnd.databricks.v1+cell": {
     "cellMetadata": {
      "byteLimit": 2048000,
      "rowLimit": 10000
     },
     "inputWidgets": {},
     "nuid": "2cd61be0-b1b8-4087-bbce-48a15691d94a",
     "showTitle": false,
     "tableResultSettingsMap": {},
     "title": ""
    }
   },
   "outputs": [],
   "source": [
    "from pyspark.sql.functions import monotonically_increasing_id\n",
    "#Nome tabela destino\n",
    "\n",
    "tb_destino = \"dim_produto\"\n",
    "\n",
    "# Extrair produtos únicos para a dimensão Produto\n",
    "dim_produto_df = df_silver.select(\n",
    "    \"IDProduto\", \"Produto\", \"Categoria\").dropDuplicates()\n",
    "\n",
    "# Adicionar chave substituta (surrogate keys)\n",
    "dim_produto_df = dim_produto_df.withColumn(\"sk_produto\", monotonically_increasing_id()+1)\n",
    "\n",
    "# Escrever DimProduto no formato Delta\n",
    "dim_produto_df.write.format(\"delta\").mode(\"overwrite\").save(f\"{gold_path}/{tb_destino}\")\n",
    "\n",
    "#display(dim_produto_df)\n",
    "#dim_produto_df.count()"
   ]
  },
  {
   "cell_type": "code",
   "execution_count": 0,
   "metadata": {
    "application/vnd.databricks.v1+cell": {
     "cellMetadata": {
      "byteLimit": 2048000,
      "rowLimit": 10000
     },
     "inputWidgets": {},
     "nuid": "76509140-b502-48ba-9f5e-24844a45ea34",
     "showTitle": false,
     "tableResultSettingsMap": {},
     "title": ""
    }
   },
   "outputs": [
    {
     "output_type": "execute_result",
     "data": {
      "text/plain": [
       "5"
      ]
     },
     "execution_count": 6,
     "metadata": {},
     "output_type": "execute_result"
    }
   ],
   "source": [
    "from pyspark.sql.functions import monotonically_increasing_id\n",
    "#Nome tabela destino\n",
    "\n",
    "tb_destino = \"dim_categoria\"\n",
    "\n",
    "# Extrair Categorias únicas para a dimensão Categoria\n",
    "dim_categoria_df = df_silver.select(\n",
    "    \"Categoria\").dropDuplicates()\n",
    "\n",
    "# Adicionar chave substituta (surrogate keys)\n",
    "dim_categoria_df = dim_categoria_df.withColumn(\"sk_categoria\", monotonically_increasing_id()+1)\n",
    "\n",
    "# Escrever DimCatgoria no formato Parquet, particionando por Categoria\n",
    "dim_categoria_df.write.format(\"delta\").mode(\"overwrite\").save(f\"{gold_path}/{tb_destino}\")\n",
    "\n",
    "dim_categoria_df.count()"
   ]
  },
  {
   "cell_type": "code",
   "execution_count": 0,
   "metadata": {
    "application/vnd.databricks.v1+cell": {
     "cellMetadata": {
      "byteLimit": 2048000,
      "rowLimit": 10000
     },
     "inputWidgets": {},
     "nuid": "5140696a-4139-4159-8a3a-055d38ece6b3",
     "showTitle": false,
     "tableResultSettingsMap": {},
     "title": ""
    }
   },
   "outputs": [
    {
     "output_type": "execute_result",
     "data": {
      "text/plain": [
       "9"
      ]
     },
     "execution_count": 7,
     "metadata": {},
     "output_type": "execute_result"
    }
   ],
   "source": [
    "#Nome tabela destino\n",
    "\n",
    "tb_destino = \"dim_segmento\"\n",
    "\n",
    "# Extrair Segmentos únicos para a dimensão Segmentos\n",
    "dim_segmento_df = df_silver.select(\n",
    "   \"Segmento\").dropDuplicates()\n",
    "\n",
    "# Adicionar chave substituta (surrogate keys)\n",
    "dim_segmento_df = dim_segmento_df.withColumn(\"sk_segmento\", monotonically_increasing_id()+1)\n",
    "\n",
    "# Escrever DimSegmento no formato Parquet\n",
    "dim_segmento_df.write.format(\"delta\").mode(\"overwrite\").save(f\"{gold_path}/{tb_destino}\")\n",
    "\n",
    "dim_segmento_df.count()\n"
   ]
  },
  {
   "cell_type": "code",
   "execution_count": 0,
   "metadata": {
    "application/vnd.databricks.v1+cell": {
     "cellMetadata": {
      "byteLimit": 2048000,
      "rowLimit": 10000
     },
     "inputWidgets": {},
     "nuid": "ebd8ae90-4dba-4cd1-a7e2-8ba19cd49657",
     "showTitle": false,
     "tableResultSettingsMap": {},
     "title": ""
    }
   },
   "outputs": [
    {
     "output_type": "execute_result",
     "data": {
      "text/plain": [
       "1"
      ]
     },
     "execution_count": 8,
     "metadata": {},
     "output_type": "execute_result"
    }
   ],
   "source": [
    "#Nome tabela destino\n",
    "tb_destino = \"dim_fabricante\"\n",
    "\n",
    "# Extrair produtos únicos para a dimensão Fabricante    \n",
    "dim_fabricante_df = df_silver.select(\n",
    "    \"IDFabricante\", \"Fabricante\").dropDuplicates()\n",
    "\n",
    "# Adicionar chave substituta (surrogate keys)\n",
    "dim_fabricante_df = dim_fabricante_df.withColumn(\"sk_fabricante\", monotonically_increasing_id()+1)\n",
    "\n",
    "# Escrever DimFabricante no formato Delta\n",
    "dim_fabricante_df.write.format(\"delta\").mode(\"overwrite\").save(f\"{gold_path}/{tb_destino}\")\n",
    "\n",
    "dim_fabricante_df.count()"
   ]
  },
  {
   "cell_type": "markdown",
   "metadata": {
    "application/vnd.databricks.v1+cell": {
     "cellMetadata": {
      "byteLimit": 2048000,
      "rowLimit": 10000
     },
     "inputWidgets": {},
     "nuid": "dd5c9c48-3c05-4cfa-b858-0d98b843a440",
     "showTitle": false,
     "tableResultSettingsMap": {},
     "title": ""
    }
   },
   "source": [
    "### Criação da Dimensão Geografia"
   ]
  },
  {
   "cell_type": "code",
   "execution_count": 0,
   "metadata": {
    "application/vnd.databricks.v1+cell": {
     "cellMetadata": {
      "byteLimit": 2048000,
      "rowLimit": 10000
     },
     "inputWidgets": {},
     "nuid": "d9cb6c3f-6543-441f-a304-c86ffb60ef5f",
     "showTitle": false,
     "tableResultSettingsMap": {},
     "title": ""
    }
   },
   "outputs": [
    {
     "output_type": "execute_result",
     "data": {
      "text/plain": [
       "20467"
      ]
     },
     "execution_count": 9,
     "metadata": {},
     "output_type": "execute_result"
    }
   ],
   "source": [
    "#Nome tabela destino\n",
    "tb_destino = \"dim_geografia\"\n",
    "\n",
    "# Extrair Geografia  únicos para a dimensão Geografia\n",
    "dim_geografia_df = df_silver.select(\n",
    "     \"Cidade\", \"Estado\", \"Regiao\", \"Distrito\", \"Pais\", \"CodigoPostal\"\n",
    ").dropDuplicates()\n",
    "\n",
    "# Adicionar chave substituta\n",
    "dim_geografia_df = dim_geografia_df.withColumn(\"sk_geografia\", monotonically_increasing_id()+1)\n",
    "\n",
    "# Escrever DimGeografia no formato Parquet\n",
    "dim_geografia_df.write.format(\"delta\").mode(\"overwrite\").save(f\"{gold_path}/{tb_destino}\")\n",
    "\n",
    "dim_geografia_df.count()\n"
   ]
  },
  {
   "cell_type": "code",
   "execution_count": 0,
   "metadata": {
    "application/vnd.databricks.v1+cell": {
     "cellMetadata": {
      "byteLimit": 2048000,
      "rowLimit": 10000
     },
     "inputWidgets": {},
     "nuid": "cf439c04-ea5c-421c-9c76-e51123c47a79",
     "showTitle": false,
     "tableResultSettingsMap": {},
     "title": ""
    }
   },
   "outputs": [
    {
     "output_type": "execute_result",
     "data": {
      "text/plain": [
       "112081"
      ]
     },
     "execution_count": 10,
     "metadata": {},
     "output_type": "execute_result"
    }
   ],
   "source": [
    "#Nome tabela destino\n",
    "tb_destino = \"dim_cliente\"\n",
    "\n",
    "from pyspark.sql.functions import col, monotonically_increasing_id\n",
    "# Passo 1 - Extrair clientes únicos para a dimensão Cliente\n",
    "dim_cliente_df = df_silver.select(\n",
    "    \"IDCliente\", \"Nome\", \"Email\", \"Cidade\", \"Estado\", \"Regiao\", \"Distrito\", \"Pais\", \"CodigoPostal\"\n",
    ").dropDuplicates()\n",
    "\n",
    "# Passo 2 - Realizar o join para obter a SK_Geografia\n",
    "dim_cliente_com_sk_df = dim_cliente_df.alias(\"cliente\") \\\n",
    "    .join(dim_geografia_df.alias(\"geografia\"), \n",
    "          (col(\"cliente.Cidade\") == col(\"geografia.Cidade\")) &\n",
    "          (col(\"cliente.Estado\") == col(\"geografia.Estado\")) &\n",
    "          (col(\"cliente.Regiao\") == col(\"geografia.Regiao\")) &\n",
    "          (col(\"cliente.Distrito\") == col(\"geografia.Distrito\")) &\n",
    "          (col(\"cliente.Pais\") == col(\"geografia.Pais\")) &\n",
    "          (col(\"cliente.CodigoPostal\") == col(\"geografia.CodigoPostal\")), \n",
    "          \"left\") \\\n",
    "    .select(\"cliente.IDCliente\", \"cliente.Nome\", \"cliente.Email\", \"geografia.sk_geografia\")\n",
    "\n",
    "# Passo 3 - Adicionar chave substituta\n",
    "dim_cliente_com_sk_df = dim_cliente_com_sk_df.withColumn(\"sk_cliente\", monotonically_increasing_id()+1)\n",
    "\n",
    "# Passo 4 - Selecionar colunas específicas\n",
    "dim_cliente_com_sk_df = dim_cliente_com_sk_df.select(\"IDCliente\", \"Nome\",\"Email\", \"sk_geografia\", \"sk_cliente\")\n",
    "\n",
    "# Passo 5 - Escrever DimCliente no formato Delta\n",
    "dim_cliente_com_sk_df.write.format(\"delta\").mode(\"overwrite\").save(f\"{gold_path}/{tb_destino}\")\n",
    "\n",
    "dim_cliente_com_sk_df.count()"
   ]
  },
  {
   "cell_type": "code",
   "execution_count": 0,
   "metadata": {
    "application/vnd.databricks.v1+cell": {
     "cellMetadata": {
      "byteLimit": 2048000,
      "rowLimit": 10000
     },
     "inputWidgets": {},
     "nuid": "37b8b3eb-b651-4f33-a31c-7003a1285f04",
     "showTitle": false,
     "tableResultSettingsMap": {},
     "title": ""
    }
   },
   "outputs": [
    {
     "output_type": "execute_result",
     "data": {
      "text/plain": [
       "112202"
      ]
     },
     "execution_count": 11,
     "metadata": {},
     "output_type": "execute_result"
    }
   ],
   "source": [
    "#Nome tabela destino\n",
    "tb_destino = \"fato_vendas\"\n",
    "\n",
    "from pyspark.sql.functions import broadcast,year, month\n",
    "# Juntar dados da Silver com tabelas de dimensões para obter as chaves substitutas\n",
    "fato_vendas_df = df_silver.alias(\"s\") \\\n",
    "    .join(broadcast(dim_produto_df.select(\"IDProduto\", \"sk_produto\").alias(\"dprod\")), \"IDProduto\") \\\n",
    "    .join(broadcast(dim_categoria_df.select(\"Categoria\", \"sk_categoria\").alias(\"dcat\")), \"Categoria\") \\\n",
    "    .join(broadcast(dim_segmento_df.select(\"Segmento\", \"sk_segmento\").alias(\"dseg\")), \"Segmento\") \\\n",
    "    .join(broadcast(dim_fabricante_df.select(\"Fabricante\", \"sk_fabricante\").alias(\"dfab\")), \"Fabricante\") \\\n",
    "    .join(broadcast(dim_cliente_com_sk_df.select(\"IDCliente\", \"sk_cliente\").alias(\"dcli\")), \"IDCliente\") \\\n",
    "    .select(\n",
    "        col(\"s.Data\").alias(\"DataVenda\"),\n",
    "        \"sk_produto\",\n",
    "        \"sk_categoria\",\n",
    "        \"sk_segmento\",\n",
    "        \"sk_fabricante\",\n",
    "        \"sk_cliente\",\n",
    "        \"Unidades\",\n",
    "        col(\"s.PrecoUnitario\"),\n",
    "        col(\"s.CustoUnitario\"),\n",
    "        col(\"s.TotalVendas\")\n",
    "    )\n",
    "\n",
    "# Escrever tabela Fato no formato Delta, particionando por DataVenda (ano e mês)\n",
    "fato_vendas_df.withColumn(\"Ano\", year(\"DataVenda\")) \\\n",
    "             .withColumn(\"Mes\", month(\"DataVenda\")) \\\n",
    "             .write.format(\"delta\") \\\n",
    "             .mode(\"overwrite\")\\\n",
    "             .option(\"MaxRecordsPerFile\", 1000000)\\\n",
    "             .partitionBy(\"Ano\", \"Mes\")\\\n",
    "             .save(f\"{gold_path}/{tb_destino}\")\n",
    "\n",
    "fato_vendas_df.count()             "
   ]
  },
  {
   "cell_type": "markdown",
   "metadata": {
    "application/vnd.databricks.v1+cell": {
     "cellMetadata": {
      "byteLimit": 2048000,
      "rowLimit": 10000
     },
     "inputWidgets": {},
     "nuid": "c47ecd5e-a69c-490b-9dc0-52c5ef5762aa",
     "showTitle": false,
     "tableResultSettingsMap": {},
     "title": ""
    }
   },
   "source": [
    "### Limpeza de Memória"
   ]
  },
  {
   "cell_type": "code",
   "execution_count": 0,
   "metadata": {
    "application/vnd.databricks.v1+cell": {
     "cellMetadata": {
      "byteLimit": 2048000,
      "rowLimit": 10000
     },
     "inputWidgets": {},
     "nuid": "27462067-a7da-4f34-b982-e310dc50e3f0",
     "showTitle": false,
     "tableResultSettingsMap": {},
     "title": ""
    }
   },
   "outputs": [
    {
     "output_type": "execute_result",
     "data": {
      "text/plain": [
       "3982"
      ]
     },
     "execution_count": 12,
     "metadata": {},
     "output_type": "execute_result"
    }
   ],
   "source": [
    "import gc\n",
    "\n",
    "# Coletar lixo após operações pesadas para liberar memória\n",
    "gc.collect()\n"
   ]
  },
  {
   "cell_type": "markdown",
   "metadata": {
    "application/vnd.databricks.v1+cell": {
     "cellMetadata": {
      "byteLimit": 2048000,
      "rowLimit": 10000
     },
     "inputWidgets": {},
     "nuid": "1cd6a30c-3006-45e9-a214-804f6585fc90",
     "showTitle": false,
     "tableResultSettingsMap": {},
     "title": ""
    }
   },
   "source": [
    "###Evidências de Carga na Camada Gold (Delta)"
   ]
  },
  {
   "cell_type": "code",
   "execution_count": 0,
   "metadata": {
    "application/vnd.databricks.v1+cell": {
     "cellMetadata": {
      "byteLimit": 2048000,
      "rowLimit": 10000
     },
     "inputWidgets": {},
     "nuid": "e0e27062-e5d1-43ee-a2b7-b3cf8fe1bd23",
     "showTitle": false,
     "tableResultSettingsMap": {},
     "title": ""
    }
   },
   "outputs": [
    {
     "output_type": "display_data",
     "data": {
      "text/html": [
       "<style scoped>\n",
       "  .table-result-container {\n",
       "    max-height: 300px;\n",
       "    overflow: auto;\n",
       "  }\n",
       "  table, th, td {\n",
       "    border: 1px solid black;\n",
       "    border-collapse: collapse;\n",
       "  }\n",
       "  th, td {\n",
       "    padding: 5px;\n",
       "  }\n",
       "  th {\n",
       "    text-align: left;\n",
       "  }\n",
       "</style><div class='table-result-container'><table class='table-result'><thead style='background-color: white'><tr><th>path</th><th>name</th><th>size</th><th>modificationTime</th></tr></thead><tbody><tr><td>dbfs:/Volumes/workspace/lhdw/gold/vendas_delta/dim_categoria/</td><td>dim_categoria/</td><td>0</td><td>1756333959430</td></tr><tr><td>dbfs:/Volumes/workspace/lhdw/gold/vendas_delta/dim_cliente/</td><td>dim_cliente/</td><td>0</td><td>1756333959430</td></tr><tr><td>dbfs:/Volumes/workspace/lhdw/gold/vendas_delta/dim_fabricante/</td><td>dim_fabricante/</td><td>0</td><td>1756333959430</td></tr><tr><td>dbfs:/Volumes/workspace/lhdw/gold/vendas_delta/dim_geografia/</td><td>dim_geografia/</td><td>0</td><td>1756333959430</td></tr><tr><td>dbfs:/Volumes/workspace/lhdw/gold/vendas_delta/dim_produto/</td><td>dim_produto/</td><td>0</td><td>1756333959430</td></tr><tr><td>dbfs:/Volumes/workspace/lhdw/gold/vendas_delta/dim_segmento/</td><td>dim_segmento/</td><td>0</td><td>1756333959430</td></tr><tr><td>dbfs:/Volumes/workspace/lhdw/gold/vendas_delta/fato_vendas/</td><td>fato_vendas/</td><td>0</td><td>1756333959430</td></tr></tbody></table></div>"
      ]
     },
     "metadata": {
      "application/vnd.databricks.v1+output": {
       "addedWidgets": {},
       "aggData": [],
       "aggError": "",
       "aggOverflow": false,
       "aggSchema": [],
       "aggSeriesLimitReached": false,
       "aggType": "",
       "arguments": {},
       "columnCustomDisplayInfos": {},
       "data": [
        [
         "dbfs:/Volumes/workspace/lhdw/gold/vendas_delta/dim_categoria/",
         "dim_categoria/",
         0,
         1756333959430
        ],
        [
         "dbfs:/Volumes/workspace/lhdw/gold/vendas_delta/dim_cliente/",
         "dim_cliente/",
         0,
         1756333959430
        ],
        [
         "dbfs:/Volumes/workspace/lhdw/gold/vendas_delta/dim_fabricante/",
         "dim_fabricante/",
         0,
         1756333959430
        ],
        [
         "dbfs:/Volumes/workspace/lhdw/gold/vendas_delta/dim_geografia/",
         "dim_geografia/",
         0,
         1756333959430
        ],
        [
         "dbfs:/Volumes/workspace/lhdw/gold/vendas_delta/dim_produto/",
         "dim_produto/",
         0,
         1756333959430
        ],
        [
         "dbfs:/Volumes/workspace/lhdw/gold/vendas_delta/dim_segmento/",
         "dim_segmento/",
         0,
         1756333959430
        ],
        [
         "dbfs:/Volumes/workspace/lhdw/gold/vendas_delta/fato_vendas/",
         "fato_vendas/",
         0,
         1756333959430
        ]
       ],
       "datasetInfos": [],
       "dbfsResultPath": null,
       "isJsonSchema": true,
       "metadata": {},
       "overflow": false,
       "plotOptions": {
        "customPlotOptions": {},
        "displayType": "table",
        "pivotAggregation": null,
        "pivotColumns": null,
        "xColumns": null,
        "yColumns": null
       },
       "removedWidgets": [],
       "schema": [
        {
         "metadata": "{}",
         "name": "path",
         "type": "\"string\""
        },
        {
         "metadata": "{}",
         "name": "name",
         "type": "\"string\""
        },
        {
         "metadata": "{}",
         "name": "size",
         "type": "\"long\""
        },
        {
         "metadata": "{}",
         "name": "modificationTime",
         "type": "\"long\""
        }
       ],
       "type": "table"
      }
     },
     "output_type": "display_data"
    }
   ],
   "source": [
    "%fs ls /Volumes/workspace/lhdw/gold/vendas_delta/"
   ]
  },
  {
   "cell_type": "code",
   "execution_count": 0,
   "metadata": {
    "application/vnd.databricks.v1+cell": {
     "cellMetadata": {
      "byteLimit": 2048000,
      "rowLimit": 10000
     },
     "inputWidgets": {},
     "nuid": "c33576d0-a19e-418f-8385-6e6a43498fe5",
     "showTitle": false,
     "tableResultSettingsMap": {},
     "title": ""
    }
   },
   "outputs": [
    {
     "output_type": "display_data",
     "data": {
      "text/html": [
       "<style scoped>\n",
       "  .table-result-container {\n",
       "    max-height: 300px;\n",
       "    overflow: auto;\n",
       "  }\n",
       "  table, th, td {\n",
       "    border: 1px solid black;\n",
       "    border-collapse: collapse;\n",
       "  }\n",
       "  th, td {\n",
       "    padding: 5px;\n",
       "  }\n",
       "  th {\n",
       "    text-align: left;\n",
       "  }\n",
       "</style><div class='table-result-container'><table class='table-result'><thead style='background-color: white'><tr><th>path</th><th>name</th><th>size</th><th>modificationTime</th></tr></thead><tbody><tr><td>dbfs:/Volumes/workspace/lhdw/gold/vendas_delta/dim_categoria/_delta_log/</td><td>_delta_log/</td><td>0</td><td>1756333971707</td></tr><tr><td>dbfs:/Volumes/workspace/lhdw/gold/vendas_delta/dim_categoria/part-00000-169ce2a6-2400-411a-afd5-17782a258a29.c000.snappy.parquet</td><td>part-00000-169ce2a6-2400-411a-afd5-17782a258a29.c000.snappy.parquet</td><td>933</td><td>1756333934000</td></tr><tr><td>dbfs:/Volumes/workspace/lhdw/gold/vendas_delta/dim_categoria/part-00000-ef0a0c77-92f7-4ee6-b46c-d8f96157cc1d.c000.snappy.parquet</td><td>part-00000-ef0a0c77-92f7-4ee6-b46c-d8f96157cc1d.c000.snappy.parquet</td><td>933</td><td>1756155572000</td></tr><tr><td>dbfs:/Volumes/workspace/lhdw/gold/vendas_delta/dim_categoria/part-00000-fa8058ea-0648-4819-b2de-53d62c741fe7.c000.snappy.parquet</td><td>part-00000-fa8058ea-0648-4819-b2de-53d62c741fe7.c000.snappy.parquet</td><td>933</td><td>1756320794000</td></tr></tbody></table></div>"
      ]
     },
     "metadata": {
      "application/vnd.databricks.v1+output": {
       "addedWidgets": {},
       "aggData": [],
       "aggError": "",
       "aggOverflow": false,
       "aggSchema": [],
       "aggSeriesLimitReached": false,
       "aggType": "",
       "arguments": {},
       "columnCustomDisplayInfos": {},
       "data": [
        [
         "dbfs:/Volumes/workspace/lhdw/gold/vendas_delta/dim_categoria/_delta_log/",
         "_delta_log/",
         0,
         1756333971707
        ],
        [
         "dbfs:/Volumes/workspace/lhdw/gold/vendas_delta/dim_categoria/part-00000-169ce2a6-2400-411a-afd5-17782a258a29.c000.snappy.parquet",
         "part-00000-169ce2a6-2400-411a-afd5-17782a258a29.c000.snappy.parquet",
         933,
         1756333934000
        ],
        [
         "dbfs:/Volumes/workspace/lhdw/gold/vendas_delta/dim_categoria/part-00000-ef0a0c77-92f7-4ee6-b46c-d8f96157cc1d.c000.snappy.parquet",
         "part-00000-ef0a0c77-92f7-4ee6-b46c-d8f96157cc1d.c000.snappy.parquet",
         933,
         1756155572000
        ],
        [
         "dbfs:/Volumes/workspace/lhdw/gold/vendas_delta/dim_categoria/part-00000-fa8058ea-0648-4819-b2de-53d62c741fe7.c000.snappy.parquet",
         "part-00000-fa8058ea-0648-4819-b2de-53d62c741fe7.c000.snappy.parquet",
         933,
         1756320794000
        ]
       ],
       "datasetInfos": [],
       "dbfsResultPath": null,
       "isJsonSchema": true,
       "metadata": {},
       "overflow": false,
       "plotOptions": {
        "customPlotOptions": {},
        "displayType": "table",
        "pivotAggregation": null,
        "pivotColumns": null,
        "xColumns": null,
        "yColumns": null
       },
       "removedWidgets": [],
       "schema": [
        {
         "metadata": "{}",
         "name": "path",
         "type": "\"string\""
        },
        {
         "metadata": "{}",
         "name": "name",
         "type": "\"string\""
        },
        {
         "metadata": "{}",
         "name": "size",
         "type": "\"long\""
        },
        {
         "metadata": "{}",
         "name": "modificationTime",
         "type": "\"long\""
        }
       ],
       "type": "table"
      }
     },
     "output_type": "display_data"
    }
   ],
   "source": [
    "%fs ls /Volumes/workspace/lhdw/gold/vendas_delta/dim_categoria/"
   ]
  },
  {
   "cell_type": "code",
   "execution_count": 0,
   "metadata": {
    "application/vnd.databricks.v1+cell": {
     "cellMetadata": {
      "byteLimit": 2048000,
      "rowLimit": 10000
     },
     "inputWidgets": {},
     "nuid": "85840e60-88c1-4b28-b57a-8ede244d52cd",
     "showTitle": false,
     "tableResultSettingsMap": {},
     "title": ""
    }
   },
   "outputs": [
    {
     "output_type": "display_data",
     "data": {
      "text/html": [
       "<style scoped>\n",
       "  .table-result-container {\n",
       "    max-height: 300px;\n",
       "    overflow: auto;\n",
       "  }\n",
       "  table, th, td {\n",
       "    border: 1px solid black;\n",
       "    border-collapse: collapse;\n",
       "  }\n",
       "  th, td {\n",
       "    padding: 5px;\n",
       "  }\n",
       "  th {\n",
       "    text-align: left;\n",
       "  }\n",
       "</style><div class='table-result-container'><table class='table-result'><thead style='background-color: white'><tr><th>path</th><th>name</th><th>size</th><th>modificationTime</th></tr></thead><tbody><tr><td>dbfs:/Volumes/workspace/lhdw/gold/vendas_delta/fato_vendas/Ano=2011/Mes=1/</td><td>Mes=1/</td><td>0</td><td>1756333973528</td></tr><tr><td>dbfs:/Volumes/workspace/lhdw/gold/vendas_delta/fato_vendas/Ano=2011/Mes=10/</td><td>Mes=10/</td><td>0</td><td>1756333973528</td></tr><tr><td>dbfs:/Volumes/workspace/lhdw/gold/vendas_delta/fato_vendas/Ano=2011/Mes=11/</td><td>Mes=11/</td><td>0</td><td>1756333973528</td></tr><tr><td>dbfs:/Volumes/workspace/lhdw/gold/vendas_delta/fato_vendas/Ano=2011/Mes=12/</td><td>Mes=12/</td><td>0</td><td>1756333973528</td></tr><tr><td>dbfs:/Volumes/workspace/lhdw/gold/vendas_delta/fato_vendas/Ano=2011/Mes=2/</td><td>Mes=2/</td><td>0</td><td>1756333973528</td></tr><tr><td>dbfs:/Volumes/workspace/lhdw/gold/vendas_delta/fato_vendas/Ano=2011/Mes=3/</td><td>Mes=3/</td><td>0</td><td>1756333973528</td></tr><tr><td>dbfs:/Volumes/workspace/lhdw/gold/vendas_delta/fato_vendas/Ano=2011/Mes=4/</td><td>Mes=4/</td><td>0</td><td>1756333973528</td></tr><tr><td>dbfs:/Volumes/workspace/lhdw/gold/vendas_delta/fato_vendas/Ano=2011/Mes=5/</td><td>Mes=5/</td><td>0</td><td>1756333973528</td></tr><tr><td>dbfs:/Volumes/workspace/lhdw/gold/vendas_delta/fato_vendas/Ano=2011/Mes=6/</td><td>Mes=6/</td><td>0</td><td>1756333973528</td></tr><tr><td>dbfs:/Volumes/workspace/lhdw/gold/vendas_delta/fato_vendas/Ano=2011/Mes=7/</td><td>Mes=7/</td><td>0</td><td>1756333973528</td></tr><tr><td>dbfs:/Volumes/workspace/lhdw/gold/vendas_delta/fato_vendas/Ano=2011/Mes=8/</td><td>Mes=8/</td><td>0</td><td>1756333973528</td></tr><tr><td>dbfs:/Volumes/workspace/lhdw/gold/vendas_delta/fato_vendas/Ano=2011/Mes=9/</td><td>Mes=9/</td><td>0</td><td>1756333973528</td></tr></tbody></table></div>"
      ]
     },
     "metadata": {
      "application/vnd.databricks.v1+output": {
       "addedWidgets": {},
       "aggData": [],
       "aggError": "",
       "aggOverflow": false,
       "aggSchema": [],
       "aggSeriesLimitReached": false,
       "aggType": "",
       "arguments": {},
       "columnCustomDisplayInfos": {},
       "data": [
        [
         "dbfs:/Volumes/workspace/lhdw/gold/vendas_delta/fato_vendas/Ano=2011/Mes=1/",
         "Mes=1/",
         0,
         1756333973528
        ],
        [
         "dbfs:/Volumes/workspace/lhdw/gold/vendas_delta/fato_vendas/Ano=2011/Mes=10/",
         "Mes=10/",
         0,
         1756333973528
        ],
        [
         "dbfs:/Volumes/workspace/lhdw/gold/vendas_delta/fato_vendas/Ano=2011/Mes=11/",
         "Mes=11/",
         0,
         1756333973528
        ],
        [
         "dbfs:/Volumes/workspace/lhdw/gold/vendas_delta/fato_vendas/Ano=2011/Mes=12/",
         "Mes=12/",
         0,
         1756333973528
        ],
        [
         "dbfs:/Volumes/workspace/lhdw/gold/vendas_delta/fato_vendas/Ano=2011/Mes=2/",
         "Mes=2/",
         0,
         1756333973528
        ],
        [
         "dbfs:/Volumes/workspace/lhdw/gold/vendas_delta/fato_vendas/Ano=2011/Mes=3/",
         "Mes=3/",
         0,
         1756333973528
        ],
        [
         "dbfs:/Volumes/workspace/lhdw/gold/vendas_delta/fato_vendas/Ano=2011/Mes=4/",
         "Mes=4/",
         0,
         1756333973528
        ],
        [
         "dbfs:/Volumes/workspace/lhdw/gold/vendas_delta/fato_vendas/Ano=2011/Mes=5/",
         "Mes=5/",
         0,
         1756333973528
        ],
        [
         "dbfs:/Volumes/workspace/lhdw/gold/vendas_delta/fato_vendas/Ano=2011/Mes=6/",
         "Mes=6/",
         0,
         1756333973528
        ],
        [
         "dbfs:/Volumes/workspace/lhdw/gold/vendas_delta/fato_vendas/Ano=2011/Mes=7/",
         "Mes=7/",
         0,
         1756333973528
        ],
        [
         "dbfs:/Volumes/workspace/lhdw/gold/vendas_delta/fato_vendas/Ano=2011/Mes=8/",
         "Mes=8/",
         0,
         1756333973528
        ],
        [
         "dbfs:/Volumes/workspace/lhdw/gold/vendas_delta/fato_vendas/Ano=2011/Mes=9/",
         "Mes=9/",
         0,
         1756333973528
        ]
       ],
       "datasetInfos": [],
       "dbfsResultPath": null,
       "isJsonSchema": true,
       "metadata": {},
       "overflow": false,
       "plotOptions": {
        "customPlotOptions": {},
        "displayType": "table",
        "pivotAggregation": null,
        "pivotColumns": null,
        "xColumns": null,
        "yColumns": null
       },
       "removedWidgets": [],
       "schema": [
        {
         "metadata": "{}",
         "name": "path",
         "type": "\"string\""
        },
        {
         "metadata": "{}",
         "name": "name",
         "type": "\"string\""
        },
        {
         "metadata": "{}",
         "name": "size",
         "type": "\"long\""
        },
        {
         "metadata": "{}",
         "name": "modificationTime",
         "type": "\"long\""
        }
       ],
       "type": "table"
      }
     },
     "output_type": "display_data"
    }
   ],
   "source": [
    "%fs ls /Volumes/workspace/lhdw/gold/vendas_delta/fato_vendas/Ano=2011/"
   ]
  }
 ],
 "metadata": {
  "application/vnd.databricks.v1+notebook": {
   "computePreferences": {
    "hardware": {
     "accelerator": null,
     "gpuPoolId": null,
     "memory": null
    }
   },
   "dashboards": [],
   "environmentMetadata": null,
   "inputWidgetPreferences": null,
   "language": "python",
   "notebookMetadata": {
    "mostRecentlyExecutedCommandWithImplicitDF": {
     "commandId": 5882795026560768,
     "dataframes": [
      "_sqldf"
     ]
    },
    "pythonIndentUnit": 4
   },
   "notebookName": "5 - Gold Delta",
   "widgets": {}
  },
  "language_info": {
   "name": "python"
  }
 },
 "nbformat": 4,
 "nbformat_minor": 0
}